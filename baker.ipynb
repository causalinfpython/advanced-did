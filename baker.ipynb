{
 "cells": [
  {
   "cell_type": "code",
   "execution_count": 135,
   "id": "6a4298c7",
   "metadata": {},
   "outputs": [],
   "source": [
    "import pandas as pd\n",
    "import numpy as np\n",
    "from matplotlib import pyplot as plt\n",
    "from matplotlib.lines import Line2D\n",
    "from linearmodels.panel import PanelOLS\n",
    "import statsmodels.api as sm\n",
    "%matplotlib inline"
   ]
  },
  {
   "cell_type": "markdown",
   "id": "5cfa964f",
   "metadata": {},
   "source": [
    "## Create simulation data"
   ]
  },
  {
   "cell_type": "code",
   "execution_count": 136,
   "id": "cd338178",
   "metadata": {},
   "outputs": [],
   "source": [
    "# Set seed\n",
    "np.random.seed(20200403)"
   ]
  },
  {
   "cell_type": "code",
   "execution_count": 137,
   "id": "a11c9789",
   "metadata": {},
   "outputs": [],
   "source": [
    "# 1,000 firms (25 per state), 40 states, 4 groups (250 per groups), 30 years\n",
    "\n",
    "df = pd.DataFrame({\"state\" : np.repeat(np.arange(1, 41), 25),\n",
    "                   \"firms\" : np.random.uniform(0, 5, size = 1000)})\n",
    "\n",
    "df = pd.concat([df] * 30, ignore_index = True).sort_values(['state', 'firms'])\n",
    "\n",
    "df['year'] = list(range(1980, 2010)) * 1000\n",
    "\n",
    "df['n'] = list(range(1, 31)) * 1000\n",
    "\n",
    "df['id'] = np.repeat(np.arange(1, 1001), 30)\n",
    "\n",
    "df.reset_index(drop = True, inplace = True)\n",
    "\n",
    "df['group'] = np.repeat(np.arange(1, 5), len(df)/4)"
   ]
  },
  {
   "cell_type": "code",
   "execution_count": 139,
   "id": "0bade3fc",
   "metadata": {},
   "outputs": [],
   "source": [
    "# Add 250 firms treated every period with the treatment effect still 7 on average\n",
    "# Cohort years 1986, 1992, 1998, 2004\n",
    "\n",
    "def create_treat_date(row):\n",
    "    if row['group'] == 1:\n",
    "        return 1986\n",
    "    elif row['group'] == 2:\n",
    "        return 1992\n",
    "    elif row['group'] == 3:\n",
    "        return 1998\n",
    "    else:\n",
    "        return 2004\n",
    "    \n",
    "df['treat_date'] = df.apply(create_treat_date, axis = 1)"
   ]
  },
  {
   "cell_type": "code",
   "execution_count": 140,
   "id": "823aa3ef",
   "metadata": {},
   "outputs": [],
   "source": [
    "def create_treat(row):\n",
    "    if (row['group'] == 1 and row['year'] >= 1986 or  \n",
    "        row['group'] == 2 and row['year'] >= 1992 or \n",
    "        row['group'] == 3 and row['year'] >= 1998 or \n",
    "        row['group'] == 4 and row['year'] >= 2004):\n",
    "        return 1\n",
    "    else:\n",
    "        return 0\n",
    "    \n",
    "df['treat'] = df.apply(create_treat, axis = 1)"
   ]
  },
  {
   "cell_type": "code",
   "execution_count": 142,
   "id": "4850e1cd",
   "metadata": {},
   "outputs": [],
   "source": [
    "# Data generating process \n",
    "\n",
    "def create_te(row):\n",
    "    if row['group'] == 1:\n",
    "        return np.random.normal(10, 0.2**2)\n",
    "    elif row['group'] == 2:\n",
    "        return np.random.normal(8, 0.2**2)\n",
    "    elif row['group'] == 3:\n",
    "        return np.random.normal(6, 0.2**2)\n",
    "    else:\n",
    "        return np.random.normal(4, 0.2**2)  \n",
    "    \n",
    "df['te'] = df.apply(create_te, axis = 1)\n",
    "df['e'] = np.random.normal(0, 0.5**2, size = 30000)"
   ]
  },
  {
   "cell_type": "markdown",
   "id": "b841f557",
   "metadata": {},
   "source": [
    "* DGP: heterogeneous versus constant (but always across group heterogeneity)\n",
    "* Cumulative treatment effect is te x (year - t_g + 1) -- Dynamic treatment effects over time for each group.\n",
    "* How does (year - treat_date + 1) create dynamic ATT?  Assume treat_date is 1992 and it is year 2000. Then, te=8 x (2000 - 1992 + 1) = 8 x (9) = 72. Group 2's TE rises from an 8 up to 72 in the t+8 year."
   ]
  },
  {
   "cell_type": "code",
   "execution_count": 221,
   "id": "f4334074",
   "metadata": {},
   "outputs": [],
   "source": [
    "# Constant treatment effects.  Notice, the treatment effect is constant. \n",
    "df['y2'] = (df['firms'] + df['n'] + df['te']*df['treat'] + df['e'])\n",
    "# Data generating process with heterogeneity over time\n",
    "df['y'] = (df['firms'] + df['n'] + df['treat']*df['te']*(\n",
    "    df['year'] - df['treat_date'] + 1) + df['e'])"
   ]
  },
  {
   "cell_type": "code",
   "execution_count": 144,
   "id": "f88167d8",
   "metadata": {},
   "outputs": [],
   "source": [
    "df['individual'] = df['id']\n",
    "df['time'] = df['year']\n",
    "df = df.set_index(['individual', 'time'])"
   ]
  },
  {
   "cell_type": "markdown",
   "id": "f7086eeb",
   "metadata": {},
   "source": [
    "* For group 1, the ATT in 1986 is 10\n",
    "* For group 1, the ATT in 1987 is 20\n",
    "* For group 1, the ATT in 1988 is 30 and so on\n",
    "* This is what we mean by \"dynamic treatment effects\" or \"heterogeneity over time\""
   ]
  },
  {
   "cell_type": "markdown",
   "id": "942a4219",
   "metadata": {},
   "source": [
    "## Estimation"
   ]
  },
  {
   "cell_type": "code",
   "execution_count": 145,
   "id": "6ee91f7c",
   "metadata": {},
   "outputs": [
    {
     "name": "stdout",
     "output_type": "stream",
     "text": [
      "                          PanelOLS Estimation Summary                           \n",
      "================================================================================\n",
      "Dep. Variable:                     y2   R-squared:                        0.9943\n",
      "Estimator:                   PanelOLS   R-squared (Between):              0.6274\n",
      "No. Observations:               30000   R-squared (Within):               0.9943\n",
      "Date:                Tue, Feb 15 2022   R-squared (Overall):              0.9688\n",
      "Time:                        21:45:57   Log-likelihood                -3.782e+04\n",
      "Cov. Estimator:                Robust                                           \n",
      "                                        F-statistic:                   1.682e+05\n",
      "Entities:                        1000   P-value                           0.0000\n",
      "Avg Obs:                       30.000   Distribution:                F(30,28970)\n",
      "Min Obs:                       30.000                                           \n",
      "Max Obs:                       30.000   F-statistic (robust):          1.581e+05\n",
      "                                        P-value                           0.0000\n",
      "Time periods:                      30   Distribution:                F(30,28970)\n",
      "Avg Obs:                      1000.00                                           \n",
      "Min Obs:                      1000.00                                           \n",
      "Max Obs:                      1000.00                                           \n",
      "                                                                                \n",
      "                                Parameter Estimates                                \n",
      "===================================================================================\n",
      "                 Parameter  Std. Err.     T-stat    P-value    Lower CI    Upper CI\n",
      "-----------------------------------------------------------------------------------\n",
      "Intercept           3.4148     0.0391     87.364     0.0000      3.3382      3.4915\n",
      "C(year)[T.1981]     1.0052     0.0552     18.208     0.0000      0.8970      1.1134\n",
      "C(year)[T.1982]     2.0119     0.0552     36.442     0.0000      1.9037      2.1201\n",
      "C(year)[T.1983]     2.9940     0.0554     54.063     0.0000      2.8855      3.1026\n",
      "C(year)[T.1984]     3.9869     0.0554     71.998     0.0000      3.8783      4.0954\n",
      "C(year)[T.1985]     4.9881     0.0553     90.271     0.0000      4.8798      5.0964\n",
      "C(year)[T.1986]     6.7422     0.0430     156.95     0.0000      6.6580      6.8264\n",
      "C(year)[T.1987]     7.7450     0.0429     180.49     0.0000      7.6609      7.8291\n",
      "C(year)[T.1988]     8.7413     0.0430     203.11     0.0000      8.6569      8.8256\n",
      "C(year)[T.1989]     9.7367     0.0429     227.10     0.0000      9.6526      9.8207\n",
      "C(year)[T.1990]     10.744     0.0430     249.75     0.0000      10.660      10.828\n",
      "C(year)[T.1991]     11.754     0.0429     273.69     0.0000      11.670      11.838\n",
      "C(year)[T.1992]     13.001     0.0403     322.50     0.0000      12.922      13.080\n",
      "C(year)[T.1993]     14.000     0.0403     347.72     0.0000      13.921      14.078\n",
      "C(year)[T.1994]     15.009     0.0403     372.33     0.0000      14.930      15.088\n",
      "C(year)[T.1995]     16.000     0.0403     397.37     0.0000      15.921      16.078\n",
      "C(year)[T.1996]     17.006     0.0402     422.81     0.0000      16.927      17.084\n",
      "C(year)[T.1997]     18.008     0.0402     447.88     0.0000      17.929      18.087\n",
      "C(year)[T.1998]     18.743     0.0438     427.85     0.0000      18.657      18.829\n",
      "C(year)[T.1999]     19.754     0.0437     452.11     0.0000      19.668      19.839\n",
      "C(year)[T.2000]     20.749     0.0437     474.59     0.0000      20.663      20.835\n",
      "C(year)[T.2001]     21.751     0.0436     498.69     0.0000      21.665      21.836\n",
      "C(year)[T.2002]     22.741     0.0438     519.42     0.0000      22.655      22.827\n",
      "C(year)[T.2003]     23.756     0.0438     541.84     0.0000      23.670      23.841\n",
      "C(year)[T.2004]     23.999     0.0559     429.47     0.0000      23.890      24.109\n",
      "C(year)[T.2005]     25.000     0.0560     446.48     0.0000      24.890      25.110\n",
      "C(year)[T.2006]     26.011     0.0559     465.49     0.0000      25.902      26.121\n",
      "C(year)[T.2007]     26.992     0.0561     480.71     0.0000      26.882      27.102\n",
      "C(year)[T.2008]     28.014     0.0561     499.55     0.0000      27.905      28.124\n",
      "C(year)[T.2009]     29.002     0.0559     519.10     0.0000      28.893      29.112\n",
      "treat               6.9948     0.0193     362.46     0.0000      6.9570      7.0327\n",
      "===================================================================================\n",
      "\n",
      "F-test for Poolability: 120.98\n",
      "P-value: 0.0000\n",
      "Distribution: F(999,28970)\n",
      "\n",
      "Included effects: Entity\n"
     ]
    }
   ],
   "source": [
    "# Estimation using TWFE - constant treatment effects\n",
    "constant_te = PanelOLS.from_formula('y2 ~ 1 + treat + C(year) + EntityEffects', \n",
    "                                    data = df).fit(cov_type = 'robust')\n",
    "print(constant_te)"
   ]
  },
  {
   "cell_type": "code",
   "execution_count": 146,
   "id": "d5cdf451",
   "metadata": {},
   "outputs": [
    {
     "name": "stdout",
     "output_type": "stream",
     "text": [
      "                          PanelOLS Estimation Summary                           \n",
      "================================================================================\n",
      "Dep. Variable:                      y   R-squared:                        0.7229\n",
      "Estimator:                   PanelOLS   R-squared (Between):             -0.0784\n",
      "No. Observations:               30000   R-squared (Within):               0.7229\n",
      "Date:                Tue, Feb 15 2022   R-squared (Overall):              0.4704\n",
      "Time:                        21:45:58   Log-likelihood                -1.437e+05\n",
      "Cov. Estimator:                Robust                                           \n",
      "                                        F-statistic:                      2519.8\n",
      "Entities:                        1000   P-value                           0.0000\n",
      "Avg Obs:                       30.000   Distribution:                F(30,28970)\n",
      "Min Obs:                       30.000                                           \n",
      "Max Obs:                       30.000   F-statistic (robust):             2084.7\n",
      "                                        P-value                           0.0000\n",
      "Time periods:                      30   Distribution:                F(30,28970)\n",
      "Avg Obs:                      1000.00                                           \n",
      "Min Obs:                      1000.00                                           \n",
      "Max Obs:                      1000.00                                           \n",
      "                                                                                \n",
      "                                Parameter Estimates                                \n",
      "===================================================================================\n",
      "                 Parameter  Std. Err.     T-stat    P-value    Lower CI    Upper CI\n",
      "-----------------------------------------------------------------------------------\n",
      "Intercept           3.4148     1.2512     2.7292     0.0064      0.9624      5.8673\n",
      "C(year)[T.1981]     1.0052     1.7695     0.5681     0.5700     -2.4630      4.4734\n",
      "C(year)[T.1982]     2.0119     1.7695     1.1370     0.2555     -1.4564      5.4803\n",
      "C(year)[T.1983]     2.9940     1.7696     1.6919     0.0907     -0.4745      6.4626\n",
      "C(year)[T.1984]     3.9869     1.7696     2.2530     0.0243      0.5184      7.4553\n",
      "C(year)[T.1985]     4.9881     1.7695     2.8189     0.0048      1.5198      8.4564\n",
      "C(year)[T.1986]     10.167     1.6105     6.3131     0.0000      7.0104      13.324\n",
      "C(year)[T.1987]     13.670     1.5430     8.8590     0.0000      10.645      16.694\n",
      "C(year)[T.1988]     17.166     1.4843     11.565     0.0000      14.257      20.075\n",
      "C(year)[T.1989]     20.661     1.4360     14.388     0.0000      17.847      23.476\n",
      "C(year)[T.1990]     24.170     1.3990     17.277     0.0000      21.428      26.912\n",
      "C(year)[T.1991]     27.675     1.3743     20.138     0.0000      24.982      30.369\n",
      "C(year)[T.1992]     34.840     1.3230     26.334     0.0000      32.247      37.433\n",
      "C(year)[T.1993]     40.352     1.2962     31.131     0.0000      37.812      42.893\n",
      "C(year)[T.1994]     45.861     1.2859     35.666     0.0000      43.340      48.381\n",
      "C(year)[T.1995]     51.341     1.2923     39.728     0.0000      48.808      53.873\n",
      "C(year)[T.1996]     56.867     1.3155     43.227     0.0000      54.288      59.445\n",
      "C(year)[T.1997]     62.358     1.3539     46.056     0.0000      59.704      65.011\n",
      "C(year)[T.1998]     71.018     1.3982     50.793     0.0000      68.277      73.758\n",
      "C(year)[T.1999]     78.039     1.4413     54.145     0.0000      75.214      80.864\n",
      "C(year)[T.2000]     85.018     1.4942     56.899     0.0000      82.089      87.947\n",
      "C(year)[T.2001]     92.025     1.5567     59.114     0.0000      88.973      95.076\n",
      "C(year)[T.2002]     99.031     1.6281     60.827     0.0000      95.840      102.22\n",
      "C(year)[T.2003]     106.05     1.7064     62.146     0.0000      102.70      109.39\n",
      "C(year)[T.2004]     115.69     1.7176     67.353     0.0000      112.32      119.05\n",
      "C(year)[T.2005]     123.72     1.7622     70.207     0.0000      120.26      127.17\n",
      "C(year)[T.2006]     131.68     1.8075     72.848     0.0000      128.13      135.22\n",
      "C(year)[T.2007]     139.70     1.8559     75.272     0.0000      136.06      143.33\n",
      "C(year)[T.2008]     147.75     1.9057     77.529     0.0000      144.01      151.48\n",
      "C(year)[T.2009]     155.70     1.9549     79.645     0.0000      151.86      159.53\n",
      "treat              -6.7043     0.6662    -10.063     0.0000     -8.0100     -5.3985\n",
      "===================================================================================\n",
      "\n",
      "F-test for Poolability: 32.683\n",
      "P-value: 0.0000\n",
      "Distribution: F(999,28970)\n",
      "\n",
      "Included effects: Entity\n"
     ]
    }
   ],
   "source": [
    "# Estimation using TWFE - heterogenous treatment effects over time\n",
    "het_te = PanelOLS.from_formula('y ~ 1 + treat + C(year) + EntityEffects', \n",
    "                               data = df).fit(cov_type = 'robust')\n",
    "print(het_te)"
   ]
  },
  {
   "cell_type": "markdown",
   "id": "35e23b3d",
   "metadata": {},
   "source": [
    "### Sun and Abraham event study commentary"
   ]
  },
  {
   "cell_type": "code",
   "execution_count": 147,
   "id": "e13fcbbe",
   "metadata": {},
   "outputs": [],
   "source": [
    "# Leads and lags\n",
    "df['time_til'] = df['year'] - df['treat_date']\n",
    "df['cons'] = 1\n",
    "df = pd.concat([df, pd.get_dummies(df['time_til'], prefix = \"dd\")], axis = 1)"
   ]
  },
  {
   "cell_type": "code",
   "execution_count": 148,
   "id": "31bbf281",
   "metadata": {},
   "outputs": [],
   "source": [
    "dd = [dd for dd in df.columns if dd.startswith(\"dd_\")]"
   ]
  },
  {
   "cell_type": "markdown",
   "id": "6ba1f702",
   "metadata": {},
   "source": [
    "##### Event study with heterogeneity, dropping two leads"
   ]
  },
  {
   "cell_type": "code",
   "execution_count": 150,
   "id": "82dc6aa8",
   "metadata": {},
   "outputs": [],
   "source": [
    "leads = {'dd_-4', 'dd_-1'}\n",
    "ind_cols = [ind for ind in dd if ind not in leads]"
   ]
  },
  {
   "cell_type": "code",
   "execution_count": 167,
   "id": "73a0fb5f",
   "metadata": {},
   "outputs": [
    {
     "data": {
      "image/png": "[encoded data removed]",
      "text/plain": [
       "<Figure size 1152x720 with 1 Axes>"
      ]
     },
     "metadata": {
      "needs_background": "light"
     },
     "output_type": "display_data"
    }
   ],
   "source": [
    "het_eventstudy = PanelOLS(df.y, df[ind_cols],  \n",
    "                         entity_effects = True, time_effects = True,\n",
    "                         check_rank = False, drop_absorbed = True).fit(cov_type = 'robust')\n",
    "\n",
    "het_err_series = het_eventstudy.params - het_eventstudy.conf_int()['lower']\n",
    "het_coef_df = pd.DataFrame({'coef': het_eventstudy.params.values[1:48],\n",
    "                        'err': het_err_series.values[1:48],\n",
    "                        'varname': het_err_series.index.values[1:48]\n",
    "                       })\n",
    "\n",
    "fig, ax = plt.subplots(figsize = (16, 10))\n",
    "het_coef_df.plot(x = 'varname', y = 'coef', kind = 'bar', \n",
    "             ax = ax, color = 'none', \n",
    "             yerr = 'err', legend = False)\n",
    "ax.set_ylabel('')\n",
    "ax.set_xlabel('')\n",
    "ax.axhline(y = 0, color= 'r', linestyle='-')\n",
    "ax.scatter(x = np.arange(het_coef_df.shape[0]), \n",
    "           marker = 'o', s = 50, \n",
    "           y = het_coef_df['coef'], color = 'black')\n",
    "ax.xaxis.set_ticks_position('none')"
   ]
  },
  {
   "cell_type": "markdown",
   "id": "932ad457",
   "metadata": {},
   "source": [
    "##### Event study with constant treatment effects, no anticipatory behavior and parallel trends (Sun and Abraham 2020). Droppping two leads."
   ]
  },
  {
   "cell_type": "code",
   "execution_count": 164,
   "id": "72d4e3de",
   "metadata": {},
   "outputs": [],
   "source": [
    "leads_2 = {'dd_-24', 'dd_-4', 'dd_-1'}\n",
    "ind_cols_2 = [ind for ind in dd if ind not in leads_2]"
   ]
  },
  {
   "cell_type": "code",
   "execution_count": 170,
   "id": "13b48f50",
   "metadata": {},
   "outputs": [
    {
     "data": {
      "image/png": "[encoded data removed]",
      "text/plain": [
       "<Figure size 1152x720 with 1 Axes>"
      ]
     },
     "metadata": {
      "needs_background": "light"
     },
     "output_type": "display_data"
    }
   ],
   "source": [
    "constant_eventstudy = PanelOLS(df.y2, df[ind_cols_2],  \n",
    "                         entity_effects = True, time_effects = True,\n",
    "                         check_rank = False, drop_absorbed = True).fit(cov_type = 'robust')\n",
    "\n",
    "err_series = constant_eventstudy.params - constant_eventstudy.conf_int()['lower']\n",
    "cons_coef_df = pd.DataFrame({'coef': constant_eventstudy.params.values[1:],\n",
    "                        'err': err_series.values[1:],\n",
    "                        'varname': err_series.index.values[1:]\n",
    "                       })\n",
    "\n",
    "fig, ax = plt.subplots(figsize = (16, 10))\n",
    "cons_coef_df.plot(x = 'varname', y = 'coef', kind = 'bar', \n",
    "             ax = ax, color = 'none', \n",
    "             yerr ='err', legend = False)\n",
    "ax.set_ylabel('')\n",
    "ax.set_xlabel('')\n",
    "ax.set_ylim(-10, 10)\n",
    "ax.axhline(y = 0, color='r', linestyle='-')\n",
    "ax.scatter(x = np.arange(cons_coef_df.shape[0]), \n",
    "           marker = 'o', s = 50, \n",
    "           y = cons_coef_df['coef'], color = 'black')\n",
    "ax.xaxis.set_ticks_position('none')"
   ]
  },
  {
   "cell_type": "code",
   "execution_count": 172,
   "id": "5c41c6ca",
   "metadata": {},
   "outputs": [],
   "source": [
    "leads = pd.get_dummies(df['time_til'][df['time_til'] < -1], prefix = \"leads\", \n",
    "                      prefix_sep = \"_\", drop_first = False)\n",
    "\n",
    "lags = pd.get_dummies(df['time_til'][df['time_til'] > 0], prefix = \"lags\", \n",
    "                      prefix_sep = \"_\", drop_first = False)"
   ]
  },
  {
   "cell_type": "code",
   "execution_count": 173,
   "id": "25f13548",
   "metadata": {},
   "outputs": [],
   "source": [
    "leads_lags = pd.concat([leads, lags], axis = 0)\n",
    "df = pd.concat([df, leads_lags], axis = 1)"
   ]
  },
  {
   "cell_type": "code",
   "execution_count": 175,
   "id": "8c11a3cd",
   "metadata": {},
   "outputs": [],
   "source": [
    "def create_lead_til(row):\n",
    "    if row['time_til'] < -1:\n",
    "        return row['time_til']\n",
    "    else:\n",
    "        return 0\n",
    "    \n",
    "def create_lag_til(row):\n",
    "    if row['time_til'] > 0:\n",
    "        return row['time_til']\n",
    "    else:\n",
    "        return 0\n",
    "    \n",
    "df['lead_til'] = df.apply(create_lead_til, axis = 1)\n",
    "df['lag_til'] = df.apply(create_lag_til, axis = 1)\n",
    "df['abs_lead_til'] = abs(df['lead_til'])"
   ]
  },
  {
   "cell_type": "code",
   "execution_count": 199,
   "id": "be106367",
   "metadata": {},
   "outputs": [],
   "source": [
    "%%capture\n",
    "\n",
    "het_te = PanelOLS.from_formula(\"y2 ~ 1 + C(abs_lead_til):C(group) + C(lag_til):C(group) + EntityEffects\", \n",
    "                               check_rank = False, drop_absorbed = True,\n",
    "                               data = df).fit(cov_type = 'robust')"
   ]
  },
  {
   "cell_type": "code",
   "execution_count": 200,
   "id": "5d95f81d",
   "metadata": {
    "scrolled": false
   },
   "outputs": [
    {
     "name": "stdout",
     "output_type": "stream",
     "text": [
      "                          PanelOLS Estimation Summary                           \n",
      "================================================================================\n",
      "Dep. Variable:                     y2   R-squared:                        0.9906\n",
      "Estimator:                   PanelOLS   R-squared (Between):             -2.4929\n",
      "No. Observations:               30000   R-squared (Within):               0.9906\n",
      "Date:                Tue, Feb 15 2022   R-squared (Overall):              0.7486\n",
      "Time:                        22:11:56   Log-likelihood                -4.538e+04\n",
      "Cov. Estimator:                Robust                                           \n",
      "                                        F-statistic:                   2.704e+04\n",
      "Entities:                        1000   P-value                           0.0000\n",
      "Avg Obs:                       30.000   Distribution:               F(112,28888)\n",
      "Min Obs:                       30.000                                           \n",
      "Max Obs:                       30.000   F-statistic (robust):          5.191e+05\n",
      "                                        P-value                           0.0000\n",
      "Time periods:                      30   Distribution:               F(112,28888)\n",
      "Avg Obs:                      1000.00                                           \n",
      "Min Obs:                      1000.00                                           \n",
      "Max Obs:                      1000.00                                           \n",
      "                                                                                \n",
      "                                           Parameter Estimates                                           \n",
      "=========================================================================================================\n",
      "                                       Parameter  Std. Err.     T-stat    P-value    Lower CI    Upper CI\n",
      "---------------------------------------------------------------------------------------------------------\n",
      "Intercept                                 21.408     0.0946     226.30     0.0000      21.222      21.593\n",
      "C(abs_lead_til)[T.2.0]:C(group)[T.1]     -6.5210     0.2516    -25.922     0.0000     -7.0141     -6.0279\n",
      "C(abs_lead_til)[T.2.0]:C(group)[T.2]     -5.4918     0.2051    -26.779     0.0000     -5.8938     -5.0899\n",
      "C(abs_lead_til)[T.2.0]:C(group)[T.3]     -4.5003     0.1597    -28.174     0.0000     -4.8134     -4.1872\n",
      "C(abs_lead_til)[T.2.0]:C(group)[T.4]     -3.5116     0.1154    -30.441     0.0000     -3.7377     -3.2855\n",
      "C(abs_lead_til)[T.3.0]:C(group)[T.1]     -7.5084     0.2515    -29.849     0.0000     -8.0015     -7.0154\n",
      "C(abs_lead_til)[T.3.0]:C(group)[T.2]     -6.4766     0.2052    -31.569     0.0000     -6.8787     -6.0745\n",
      "C(abs_lead_til)[T.3.0]:C(group)[T.3]     -5.4964     0.1597    -34.410     0.0000     -5.8095     -5.1833\n",
      "C(abs_lead_til)[T.3.0]:C(group)[T.4]     -4.4931     0.1153    -38.966     0.0000     -4.7191     -4.2671\n",
      "C(abs_lead_til)[T.4.0]:C(group)[T.1]     -8.4830     0.2515    -33.724     0.0000     -8.9760     -7.9900\n",
      "C(abs_lead_til)[T.4.0]:C(group)[T.2]     -7.4989     0.2051    -36.558     0.0000     -7.9009     -7.0968\n",
      "C(abs_lead_til)[T.4.0]:C(group)[T.3]     -6.4816     0.1599    -40.533     0.0000     -6.7950     -6.1682\n",
      "C(abs_lead_til)[T.4.0]:C(group)[T.4]     -5.5037     0.1153    -47.726     0.0000     -5.7297     -5.2776\n",
      "C(abs_lead_til)[T.5.0]:C(group)[T.1]     -9.4817     0.2516    -37.687     0.0000     -9.9748     -8.9886\n",
      "C(abs_lead_til)[T.5.0]:C(group)[T.2]     -8.4806     0.2050    -41.360     0.0000     -8.8825     -8.0787\n",
      "C(abs_lead_til)[T.5.0]:C(group)[T.3]     -7.4919     0.1598    -46.897     0.0000     -7.8051     -7.1788\n",
      "C(abs_lead_til)[T.5.0]:C(group)[T.4]     -6.4925     0.1153    -56.328     0.0000     -6.7184     -6.2666\n",
      "C(abs_lead_til)[T.6.0]:C(group)[T.1]     -10.494     0.2516    -41.710     0.0000     -10.987     -10.001\n",
      "C(abs_lead_til)[T.6.0]:C(group)[T.2]     -9.4829     0.2052    -46.207     0.0000     -9.8852     -9.0807\n",
      "C(abs_lead_til)[T.6.0]:C(group)[T.3]     -8.4779     0.1599    -53.034     0.0000     -8.7912     -8.1645\n",
      "C(abs_lead_til)[T.6.0]:C(group)[T.4]     -7.4927     0.1153    -64.983     0.0000     -7.7187     -7.2667\n",
      "C(abs_lead_til)[T.7.0]:C(group)[T.2]     -10.500     0.2051    -51.187     0.0000     -10.902     -10.098\n",
      "C(abs_lead_til)[T.7.0]:C(group)[T.3]     -9.4903     0.1597    -59.424     0.0000     -9.8034     -9.1773\n",
      "C(abs_lead_til)[T.7.0]:C(group)[T.4]     -8.5021     0.1151    -73.846     0.0000     -8.7277     -8.2764\n",
      "C(abs_lead_til)[T.8.0]:C(group)[T.2]     -11.479     0.2051    -55.972     0.0000     -11.881     -11.077\n",
      "C(abs_lead_til)[T.8.0]:C(group)[T.3]     -10.529     0.1597    -65.931     0.0000     -10.842     -10.216\n",
      "C(abs_lead_til)[T.8.0]:C(group)[T.4]     -9.5159     0.1152    -82.569     0.0000     -9.7418     -9.2900\n",
      "C(abs_lead_til)[T.9.0]:C(group)[T.2]     -12.488     0.2052    -60.859     0.0000     -12.890     -12.085\n",
      "C(abs_lead_til)[T.9.0]:C(group)[T.3]     -11.529     0.1598    -72.150     0.0000     -11.842     -11.215\n",
      "C(abs_lead_til)[T.9.0]:C(group)[T.4]     -10.501     0.1154    -91.004     0.0000     -10.727     -10.275\n",
      "C(abs_lead_til)[T.10.0]:C(group)[T.2]    -13.469     0.2051    -65.685     0.0000     -13.871     -13.067\n",
      "C(abs_lead_til)[T.10.0]:C(group)[T.3]    -12.498     0.1599    -78.184     0.0000     -12.811     -12.184\n",
      "C(abs_lead_til)[T.10.0]:C(group)[T.4]    -11.508     0.1154    -99.769     0.0000     -11.735     -11.282\n",
      "C(abs_lead_til)[T.11.0]:C(group)[T.2]    -14.478     0.2052    -70.570     0.0000     -14.880     -14.076\n",
      "C(abs_lead_til)[T.11.0]:C(group)[T.3]    -13.521     0.1597    -84.687     0.0000     -13.834     -13.208\n",
      "C(abs_lead_til)[T.11.0]:C(group)[T.4]    -12.495     0.1153    -108.37     0.0000     -12.721     -12.269\n",
      "C(abs_lead_til)[T.12.0]:C(group)[T.2]    -15.484     0.2052    -75.471     0.0000     -15.886     -15.082\n",
      "C(abs_lead_til)[T.12.0]:C(group)[T.3]    -14.503     0.1598    -90.773     0.0000     -14.816     -14.190\n",
      "C(abs_lead_til)[T.12.0]:C(group)[T.4]    -13.494     0.1153    -117.05     0.0000     -13.720     -13.268\n",
      "C(abs_lead_til)[T.13.0]:C(group)[T.3]    -15.508     0.1597    -97.135     0.0000     -15.821     -15.195\n",
      "C(abs_lead_til)[T.13.0]:C(group)[T.4]    -14.505     0.1154    -125.71     0.0000     -14.731     -14.279\n",
      "C(abs_lead_til)[T.14.0]:C(group)[T.3]    -16.496     0.1598    -103.21     0.0000     -16.810     -16.183\n",
      "C(abs_lead_til)[T.14.0]:C(group)[T.4]    -15.498     0.1154    -134.34     0.0000     -15.724     -15.272\n",
      "C(abs_lead_til)[T.15.0]:C(group)[T.3]    -17.501     0.1597    -109.56     0.0000     -17.814     -17.188\n",
      "C(abs_lead_til)[T.15.0]:C(group)[T.4]    -16.502     0.1153    -143.17     0.0000     -16.728     -16.276\n",
      "C(abs_lead_til)[T.16.0]:C(group)[T.3]    -18.488     0.1597    -115.78     0.0000     -18.801     -18.175\n",
      "C(abs_lead_til)[T.16.0]:C(group)[T.4]    -17.513     0.1153    -151.95     0.0000     -17.739     -17.287\n",
      "C(abs_lead_til)[T.17.0]:C(group)[T.3]    -19.515     0.1598    -122.15     0.0000     -19.828     -19.201\n",
      "C(abs_lead_til)[T.17.0]:C(group)[T.4]    -18.481     0.1153    -160.32     0.0000     -18.707     -18.255\n",
      "C(abs_lead_til)[T.18.0]:C(group)[T.3]    -20.483     0.1598    -128.22     0.0000     -20.796     -20.170\n",
      "C(abs_lead_til)[T.18.0]:C(group)[T.4]    -19.525     0.1153    -169.30     0.0000     -19.751     -19.299\n",
      "C(abs_lead_til)[T.19.0]:C(group)[T.4]    -20.506     0.1154    -177.66     0.0000     -20.732     -20.280\n",
      "C(abs_lead_til)[T.20.0]:C(group)[T.4]    -21.527     0.1154    -186.53     0.0000     -21.753     -21.300\n",
      "C(abs_lead_til)[T.21.0]:C(group)[T.4]    -22.497     0.1153    -195.12     0.0000     -22.723     -22.271\n",
      "C(abs_lead_til)[T.22.0]:C(group)[T.4]    -23.483     0.1151    -203.98     0.0000     -23.709     -23.258\n",
      "C(abs_lead_til)[T.23.0]:C(group)[T.4]    -24.476     0.1153    -212.31     0.0000     -24.702     -24.250\n",
      "C(abs_lead_til)[T.24.0]:C(group)[T.4]    -25.510     0.1154    -221.13     0.0000     -25.736     -25.284\n",
      "C(group)[T.1]:C(lag_til)[T.1.0]           6.4864     0.2516     25.776     0.0000      5.9932      6.9796\n",
      "C(group)[T.1]:C(lag_til)[T.2.0]           7.4991     0.2516     29.807     0.0000      7.0059      7.9922\n",
      "C(group)[T.1]:C(lag_til)[T.3.0]           8.4780     0.2516     33.694     0.0000      7.9848      8.9712\n",
      "C(group)[T.1]:C(lag_til)[T.4.0]           9.5190     0.2516     37.832     0.0000      9.0258      10.012\n",
      "C(group)[T.1]:C(lag_til)[T.5.0]           10.516     0.2515     41.813     0.0000      10.023      11.009\n",
      "C(group)[T.1]:C(lag_til)[T.6.0]           11.515     0.2516     45.758     0.0000      11.021      12.008\n",
      "C(group)[T.1]:C(lag_til)[T.7.0]           12.486     0.2516     49.626     0.0000      11.992      12.979\n",
      "C(group)[T.1]:C(lag_til)[T.8.0]           13.519     0.2516     53.725     0.0000      13.026      14.012\n",
      "C(group)[T.1]:C(lag_til)[T.9.0]           14.496     0.2515     57.628     0.0000      14.003      14.989\n",
      "C(group)[T.1]:C(lag_til)[T.10.0]          15.527     0.2515     61.726     0.0000      15.034      16.020\n",
      "C(group)[T.1]:C(lag_til)[T.11.0]          16.505     0.2515     65.622     0.0000      16.012      16.997\n",
      "C(group)[T.1]:C(lag_til)[T.12.0]          17.487     0.2516     69.506     0.0000      16.994      17.980\n",
      "C(group)[T.1]:C(lag_til)[T.13.0]          18.503     0.2516     73.545     0.0000      18.010      18.996\n",
      "C(group)[T.1]:C(lag_til)[T.14.0]          19.482     0.2516     77.429     0.0000      18.989      19.975\n",
      "C(group)[T.1]:C(lag_til)[T.15.0]          20.485     0.2516     81.419     0.0000      19.991      20.978\n",
      "C(group)[T.1]:C(lag_til)[T.16.0]          21.492     0.2516     85.437     0.0000      20.999      21.985\n",
      "C(group)[T.1]:C(lag_til)[T.17.0]          22.519     0.2516     89.502     0.0000      22.026      23.012\n",
      "C(group)[T.1]:C(lag_til)[T.18.0]          23.501     0.2516     93.407     0.0000      23.008      23.995\n",
      "C(group)[T.1]:C(lag_til)[T.19.0]          24.508     0.2516     97.422     0.0000      24.015      25.001\n",
      "C(group)[T.1]:C(lag_til)[T.20.0]          25.508     0.2515     101.41     0.0000      25.015      26.001\n",
      "C(group)[T.1]:C(lag_til)[T.21.0]          26.516     0.2516     105.38     0.0000      26.022      27.009\n",
      "C(group)[T.1]:C(lag_til)[T.22.0]          27.517     0.2516     109.36     0.0000      27.024      28.010\n",
      "C(group)[T.1]:C(lag_til)[T.23.0]          28.500     0.2516     113.29     0.0000      28.007      28.993\n",
      "C(group)[T.2]:C(lag_til)[T.1.0]           5.5187     0.2052     26.896     0.0000      5.1165      5.9209\n",
      "C(group)[T.2]:C(lag_til)[T.2.0]           6.5243     0.2051     31.809     0.0000      6.1223      6.9263\n",
      "C(group)[T.2]:C(lag_til)[T.3.0]           7.5184     0.2052     36.637     0.0000      7.1162      7.9206\n",
      "C(group)[T.2]:C(lag_til)[T.4.0]           8.5301     0.2051     41.589     0.0000      8.1281      8.9321\n",
      "C(group)[T.2]:C(lag_til)[T.5.0]           9.5271     0.2051     46.440     0.0000      9.1250      9.9293\n",
      "C(group)[T.2]:C(lag_til)[T.6.0]           10.512     0.2052     51.235     0.0000      10.110      10.914\n",
      "C(group)[T.2]:C(lag_til)[T.7.0]           11.515     0.2051     56.154     0.0000      11.113      11.917\n",
      "C(group)[T.2]:C(lag_til)[T.8.0]           12.537     0.2052     61.104     0.0000      12.134      12.939\n",
      "C(group)[T.2]:C(lag_til)[T.9.0]           13.508     0.2051     65.869     0.0000      13.106      13.910\n",
      "C(group)[T.2]:C(lag_til)[T.10.0]          14.517     0.2052     70.749     0.0000      14.115      14.919\n",
      "C(group)[T.2]:C(lag_til)[T.11.0]          15.520     0.2052     75.627     0.0000      15.118      15.922\n",
      "C(group)[T.2]:C(lag_til)[T.12.0]          16.506     0.2051     80.464     0.0000      16.104      16.908\n",
      "C(group)[T.2]:C(lag_til)[T.13.0]          17.507     0.2051     85.359     0.0000      17.105      17.909\n",
      "C(group)[T.2]:C(lag_til)[T.14.0]          18.538     0.2051     90.373     0.0000      18.135      18.940\n",
      "C(group)[T.2]:C(lag_til)[T.15.0]          19.498     0.2052     95.017     0.0000      19.096      19.900\n",
      "C(group)[T.2]:C(lag_til)[T.16.0]          20.539     0.2052     100.09     0.0000      20.137      20.942\n",
      "C(group)[T.2]:C(lag_til)[T.17.0]          21.524     0.2052     104.88     0.0000      21.121      21.926\n",
      "C(group)[T.3]:C(lag_til)[T.1.0]           4.5031     0.1598     28.188     0.0000      4.1900      4.8163\n",
      "C(group)[T.3]:C(lag_til)[T.2.0]           5.4955     0.1597     34.405     0.0000      5.1824      5.8086\n",
      "C(group)[T.3]:C(lag_til)[T.3.0]           6.5162     0.1597     40.799     0.0000      6.2031      6.8292\n",
      "C(group)[T.3]:C(lag_til)[T.4.0]           7.4803     0.1598     46.816     0.0000      7.1672      7.7935\n",
      "C(group)[T.3]:C(lag_til)[T.5.0]           8.4903     0.1598     53.144     0.0000      8.1772      8.8035\n",
      "C(group)[T.3]:C(lag_til)[T.6.0]           9.5041     0.1598     59.481     0.0000      9.1909      9.8173\n",
      "C(group)[T.3]:C(lag_til)[T.7.0]           10.511     0.1597     65.819     0.0000      10.198      10.824\n",
      "C(group)[T.3]:C(lag_til)[T.8.0]           11.498     0.1597     72.006     0.0000      11.185      11.811\n",
      "C(group)[T.3]:C(lag_til)[T.9.0]           12.493     0.1597     78.229     0.0000      12.180      12.806\n",
      "C(group)[T.3]:C(lag_til)[T.10.0]          13.511     0.1598     84.555     0.0000      13.197      13.824\n",
      "C(group)[T.3]:C(lag_til)[T.11.0]          14.489     0.1597     90.753     0.0000      14.176      14.802\n",
      "C(group)[T.4]:C(lag_til)[T.1.0]           3.4826     0.1155     30.157     0.0000      3.2562      3.7089\n",
      "C(group)[T.4]:C(lag_til)[T.2.0]           4.5105     0.1153     39.133     0.0000      4.2846      4.7364\n",
      "C(group)[T.4]:C(lag_til)[T.3.0]           5.4688     0.1152     47.470     0.0000      5.2430      5.6946\n",
      "C(group)[T.4]:C(lag_til)[T.4.0]           6.4992     0.1154     56.331     0.0000      6.2730      6.7253\n",
      "C(group)[T.4]:C(lag_til)[T.5.0]           7.5052     0.1153     65.093     0.0000      7.2792      7.7312\n",
      "=========================================================================================================\n",
      "\n",
      "F-test for Poolability: 100.19\n",
      "P-value: 0.0000\n",
      "Distribution: F(999,28888)\n",
      "\n",
      "Included effects: Entity\n"
     ]
    }
   ],
   "source": [
    "print(het_te)"
   ]
  },
  {
   "cell_type": "code",
   "execution_count": 177,
   "id": "e09431c5",
   "metadata": {},
   "outputs": [],
   "source": [
    "leads_3 = {'dd_-2', 'dd_-1'}\n",
    "ind_cols_3 = [ind for ind in dd if ind not in leads_3]"
   ]
  },
  {
   "cell_type": "code",
   "execution_count": 202,
   "id": "cb4fb958",
   "metadata": {},
   "outputs": [
    {
     "name": "stdout",
     "output_type": "stream",
     "text": [
      "                          PanelOLS Estimation Summary                           \n",
      "================================================================================\n",
      "Dep. Variable:                     y2   R-squared:                        0.9380\n",
      "Estimator:                   PanelOLS   R-squared (Between):             -0.7056\n",
      "No. Observations:               30000   R-squared (Within):              -0.1219\n",
      "Date:                Tue, Feb 15 2022   R-squared (Overall):             -0.1624\n",
      "Time:                        22:13:21   Log-likelihood                -2.308e+04\n",
      "Cov. Estimator:                Robust                                           \n",
      "                                        F-statistic:                   1.067e+04\n",
      "Entities:                        1000   P-value                           0.0000\n",
      "Avg Obs:                       30.000   Distribution:                F(41,28930)\n",
      "Min Obs:                       30.000                                           \n",
      "Max Obs:                       30.000   F-statistic (robust):             8822.8\n",
      "                                        P-value                           0.0000\n",
      "Time periods:                      30   Distribution:                F(41,28930)\n",
      "Avg Obs:                      1000.00                                           \n",
      "Min Obs:                      1000.00                                           \n",
      "Max Obs:                      1000.00                                           \n",
      "                                                                                \n",
      "                             Parameter Estimates                              \n",
      "==============================================================================\n",
      "            Parameter  Std. Err.     T-stat    P-value    Lower CI    Upper CI\n",
      "------------------------------------------------------------------------------\n",
      "dd_-24         9.4353     0.0909     103.83     0.0000      9.2572      9.6135\n",
      "dd_-23         9.4691     0.0905     104.62     0.0000      9.2917      9.6465\n",
      "dd_-22         9.4477     0.0902     104.75     0.0000      9.2709      9.6245\n",
      "dd_-21         9.4354     0.0907     103.98     0.0000      9.2575      9.6132\n",
      "dd_-20         9.4296     0.0478     197.27     0.0000      9.3359      9.5233\n",
      "dd_-19         9.4480     0.0513     184.20     0.0000      9.3474      9.5485\n",
      "dd_-18         6.1454     0.0818     75.085     0.0000      5.9849      6.3058\n",
      "dd_-17         6.1484     0.0813     75.647     0.0000      5.9891      6.3078\n",
      "dd_-16         6.1412     0.0813     75.564     0.0000      5.9819      6.3005\n",
      "dd_-15         6.1328     0.0816     75.189     0.0000      5.9730      6.2927\n",
      "dd_-14         6.1600     0.0396     155.62     0.0000      6.0824      6.2376\n",
      "dd_-13         6.1398     0.0422     145.46     0.0000      6.0571      6.2226\n",
      "dd_-12         2.9998     0.0674     44.513     0.0000      2.8677      3.1319\n",
      "dd_-11         2.9904     0.0673     44.433     0.0000      2.8585      3.1223\n",
      "dd_-10         2.9939     0.0671     44.634     0.0000      2.8624      3.1254\n",
      "dd_-9          2.9686     0.0675     43.981     0.0000      2.8363      3.1009\n",
      "dd_-8          2.9914     0.0256     116.70     0.0000      2.9412      3.0417\n",
      "dd_-7          2.9899     0.0289     103.51     0.0000      2.9333      3.0465\n",
      "dd_-6          0.0098     0.0610     0.1612     0.8719     -0.1098      0.1294\n",
      "dd_-5          0.0016     0.0608     0.0261     0.9792     -0.1176      0.1208\n",
      "dd_-4         -0.0020     0.0607    -0.0322     0.9743     -0.1209      0.1170\n",
      "dd_-3         -0.0206     0.0610    -0.3381     0.7353     -0.1402      0.0990\n",
      "dd_0           4.6371     0.0454     102.06     0.0000      4.5481      4.7262\n",
      "dd_1           4.6354     0.0457     101.32     0.0000      4.5457      4.7250\n",
      "dd_2           4.6501     0.0452     102.94     0.0000      4.5616      4.7387\n",
      "dd_3           4.6190     0.0459     100.73     0.0000      4.5291      4.7089\n",
      "dd_4           4.6648     0.0383     121.86     0.0000      4.5898      4.7398\n",
      "dd_5           4.6484     0.0301     154.55     0.0000      4.5895      4.7074\n",
      "dd_6           2.9556     0.0330     89.440     0.0000      2.8908      3.0204\n",
      "dd_7           2.9380     0.0329     89.284     0.0000      2.8735      3.0025\n",
      "dd_8           2.9571     0.0323     91.502     0.0000      2.8938      3.0204\n",
      "dd_9           2.9181     0.0332     87.903     0.0000      2.8530      2.9831\n",
      "dd_10          2.9755     0.0402     74.058     0.0000      2.8967      3.0542\n",
      "dd_11          2.9429     0.0201     146.61     0.0000      2.9035      2.9822\n",
      "dd_12          1.3897     0.0318     43.736     0.0000      1.3274      1.4520\n",
      "dd_13          1.3856     0.0314     44.102     0.0000      1.3240      1.4472\n",
      "dd_14          1.3982     0.0317     44.100     0.0000      1.3361      1.4604\n",
      "dd_15          1.3594     0.0323     42.046     0.0000      1.2960      1.4228\n",
      "dd_16          1.4259     0.0553     25.788     0.0000      1.3175      1.5342\n",
      "dd_17          1.4106     0.0285     49.443     0.0000      1.3547      1.4665\n",
      "dd_22          0.0284     0.0613     0.4634     0.6431     -0.0917      0.1485\n",
      "cons           18.867     0.0285     662.38     0.0000      18.811      18.922\n",
      "==============================================================================\n",
      "\n",
      "F-test for Poolability: 3583.0\n",
      "P-value: 0.0000\n",
      "Distribution: F(1028,28930)\n",
      "\n",
      "Included effects: Entity, Time\n"
     ]
    },
    {
     "name": "stderr",
     "output_type": "stream",
     "text": [
      "C:\\Users\\sajidmu2\\Anaconda3\\lib\\site-packages\\linearmodels\\panel\\model.py:1831: AbsorbingEffectWarning: \n",
      "Variables have been fully absorbed and have removed from the regression:\n",
      "\n",
      "dd_18, dd_19, dd_20, dd_21, dd_23\n",
      "\n",
      "  warnings.warn(\n"
     ]
    }
   ],
   "source": [
    "het_te = PanelOLS(df.y2, df[ind_cols_3 + ['cons']], entity_effects = True, time_effects = True, \n",
    "                  check_rank = False, drop_absorbed = True).fit(cov_type = 'robust')\n",
    "print(het_te)"
   ]
  },
  {
   "cell_type": "markdown",
   "id": "caac1d51",
   "metadata": {},
   "source": [
    "### Bacon decomposition shows the problem -- notice all those late to early 2x2s!"
   ]
  },
  {
   "cell_type": "code",
   "execution_count": 203,
   "id": "c5c4b5ef",
   "metadata": {},
   "outputs": [
    {
     "data": {
      "text/plain": [
       "<rpy2.rinterface_lib.sexp.NULLType object at 0x00000200D4FD3500> [RTYPES.NILSXP]"
      ]
     },
     "execution_count": 203,
     "metadata": {},
     "output_type": "execute_result"
    }
   ],
   "source": [
    "import rpy2.robjects as ro\n",
    "from rpy2.robjects.packages import importr\n",
    "from rpy2.robjects import pandas2ri\n",
    "from rpy2.robjects.conversion import localconverter\n",
    "from rpy2.robjects import IntVector, Formula\n",
    "import rpy2.robjects.packages as rpackages\n",
    "utils = rpackages.importr('utils')\n",
    "utils.chooseCRANmirror(ind = 1)"
   ]
  },
  {
   "cell_type": "code",
   "execution_count": 204,
   "id": "3ed58fce",
   "metadata": {},
   "outputs": [],
   "source": [
    "with localconverter(ro.default_converter + pandas2ri.converter):\n",
    "      rdf = ro.conversion.py2rpy(df)"
   ]
  },
  {
   "cell_type": "code",
   "execution_count": 205,
   "id": "92e948ad",
   "metadata": {},
   "outputs": [],
   "source": [
    "%%capture\n",
    "\n",
    "# Bacon Decomposition\n",
    "utils.install_packages(\"bacondecomp\")\n",
    "bacondecomp = rpackages.importr('bacondecomp')"
   ]
  },
  {
   "cell_type": "code",
   "execution_count": 209,
   "id": "ff8450c3",
   "metadata": {},
   "outputs": [
    {
     "name": "stdout",
     "output_type": "stream",
     "text": [
      "                      type weight   avg_est\n",
      "1 Earlier vs Later Treated    0.5  51.79904\n",
      "2 Later vs Earlier Treated    0.5 -65.20756\n"
     ]
    },
    {
     "data": {
      "text/html": [
       "<div>\n",
       "<style scoped>\n",
       "    .dataframe tbody tr th:only-of-type {\n",
       "        vertical-align: middle;\n",
       "    }\n",
       "\n",
       "    .dataframe tbody tr th {\n",
       "        vertical-align: top;\n",
       "    }\n",
       "\n",
       "    .dataframe thead th {\n",
       "        text-align: right;\n",
       "    }\n",
       "</style>\n",
       "<table border=\"1\" class=\"dataframe\">\n",
       "  <thead>\n",
       "    <tr style=\"text-align: right;\">\n",
       "      <th></th>\n",
       "      <th>treated</th>\n",
       "      <th>untreated</th>\n",
       "      <th>estimate</th>\n",
       "      <th>weight</th>\n",
       "      <th>type</th>\n",
       "    </tr>\n",
       "  </thead>\n",
       "  <tbody>\n",
       "    <tr>\n",
       "      <th>2</th>\n",
       "      <td>1992</td>\n",
       "      <td>1986</td>\n",
       "      <td>-44.002869</td>\n",
       "      <td>0.100000</td>\n",
       "      <td>Later vs Earlier Treated</td>\n",
       "    </tr>\n",
       "    <tr>\n",
       "      <th>3</th>\n",
       "      <td>1998</td>\n",
       "      <td>1986</td>\n",
       "      <td>-81.012049</td>\n",
       "      <td>0.133333</td>\n",
       "      <td>Later vs Earlier Treated</td>\n",
       "    </tr>\n",
       "    <tr>\n",
       "      <th>4</th>\n",
       "      <td>2004</td>\n",
       "      <td>1986</td>\n",
       "      <td>-106.007429</td>\n",
       "      <td>0.100000</td>\n",
       "      <td>Later vs Earlier Treated</td>\n",
       "    </tr>\n",
       "    <tr>\n",
       "      <th>5</th>\n",
       "      <td>1986</td>\n",
       "      <td>1992</td>\n",
       "      <td>34.999866</td>\n",
       "      <td>0.033333</td>\n",
       "      <td>Earlier vs Later Treated</td>\n",
       "    </tr>\n",
       "    <tr>\n",
       "      <th>7</th>\n",
       "      <td>1998</td>\n",
       "      <td>1992</td>\n",
       "      <td>-33.015604</td>\n",
       "      <td>0.066667</td>\n",
       "      <td>Later vs Earlier Treated</td>\n",
       "    </tr>\n",
       "    <tr>\n",
       "      <th>8</th>\n",
       "      <td>2004</td>\n",
       "      <td>1992</td>\n",
       "      <td>-57.995785</td>\n",
       "      <td>0.066667</td>\n",
       "      <td>Later vs Earlier Treated</td>\n",
       "    </tr>\n",
       "    <tr>\n",
       "      <th>9</th>\n",
       "      <td>1986</td>\n",
       "      <td>1998</td>\n",
       "      <td>65.000634</td>\n",
       "      <td>0.066667</td>\n",
       "      <td>Earlier vs Later Treated</td>\n",
       "    </tr>\n",
       "    <tr>\n",
       "      <th>10</th>\n",
       "      <td>1992</td>\n",
       "      <td>1998</td>\n",
       "      <td>27.987025</td>\n",
       "      <td>0.066667</td>\n",
       "      <td>Earlier vs Later Treated</td>\n",
       "    </tr>\n",
       "    <tr>\n",
       "      <th>12</th>\n",
       "      <td>2004</td>\n",
       "      <td>1998</td>\n",
       "      <td>-22.011540</td>\n",
       "      <td>0.033333</td>\n",
       "      <td>Later vs Earlier Treated</td>\n",
       "    </tr>\n",
       "    <tr>\n",
       "      <th>13</th>\n",
       "      <td>1986</td>\n",
       "      <td>2004</td>\n",
       "      <td>95.004862</td>\n",
       "      <td>0.100000</td>\n",
       "      <td>Earlier vs Later Treated</td>\n",
       "    </tr>\n",
       "    <tr>\n",
       "      <th>14</th>\n",
       "      <td>1992</td>\n",
       "      <td>2004</td>\n",
       "      <td>52.006278</td>\n",
       "      <td>0.133333</td>\n",
       "      <td>Earlier vs Later Treated</td>\n",
       "    </tr>\n",
       "    <tr>\n",
       "      <th>15</th>\n",
       "      <td>1998</td>\n",
       "      <td>2004</td>\n",
       "      <td>20.990225</td>\n",
       "      <td>0.100000</td>\n",
       "      <td>Earlier vs Later Treated</td>\n",
       "    </tr>\n",
       "  </tbody>\n",
       "</table>\n",
       "</div>"
      ],
      "text/plain": [
       "    treated  untreated    estimate    weight                      type\n",
       "2      1992       1986  -44.002869  0.100000  Later vs Earlier Treated\n",
       "3      1998       1986  -81.012049  0.133333  Later vs Earlier Treated\n",
       "4      2004       1986 -106.007429  0.100000  Later vs Earlier Treated\n",
       "5      1986       1992   34.999866  0.033333  Earlier vs Later Treated\n",
       "7      1998       1992  -33.015604  0.066667  Later vs Earlier Treated\n",
       "8      2004       1992  -57.995785  0.066667  Later vs Earlier Treated\n",
       "9      1986       1998   65.000634  0.066667  Earlier vs Later Treated\n",
       "10     1992       1998   27.987025  0.066667  Earlier vs Later Treated\n",
       "12     2004       1998  -22.011540  0.033333  Later vs Earlier Treated\n",
       "13     1986       2004   95.004862  0.100000  Earlier vs Later Treated\n",
       "14     1992       2004   52.006278  0.133333  Earlier vs Later Treated\n",
       "15     1998       2004   20.990225  0.100000  Earlier vs Later Treated"
      ]
     },
     "execution_count": 209,
     "metadata": {},
     "output_type": "execute_result"
    }
   ],
   "source": [
    "get_df_y = bacondecomp.bacon(Formula('y ~ treat'), data = rdf, \n",
    "                  id_var = 'id', \n",
    "                  time_var = 'year')\n",
    "\n",
    "with localconverter(ro.default_converter + pandas2ri.converter):\n",
    "      decomp_df_y = ro.conversion.rpy2py(get_df_y)\n",
    "        \n",
    "decomp_df_y"
   ]
  },
  {
   "cell_type": "code",
   "execution_count": 210,
   "id": "201a41ae",
   "metadata": {},
   "outputs": [
    {
     "name": "stdout",
     "output_type": "stream",
     "text": [
      "                      type weight avg_est\n",
      "1 Earlier vs Later Treated    0.5 8.39645\n",
      "2 Later vs Earlier Treated    0.5 5.59325\n"
     ]
    },
    {
     "data": {
      "text/html": [
       "<div>\n",
       "<style scoped>\n",
       "    .dataframe tbody tr th:only-of-type {\n",
       "        vertical-align: middle;\n",
       "    }\n",
       "\n",
       "    .dataframe tbody tr th {\n",
       "        vertical-align: top;\n",
       "    }\n",
       "\n",
       "    .dataframe thead th {\n",
       "        text-align: right;\n",
       "    }\n",
       "</style>\n",
       "<table border=\"1\" class=\"dataframe\">\n",
       "  <thead>\n",
       "    <tr style=\"text-align: right;\">\n",
       "      <th></th>\n",
       "      <th>treated</th>\n",
       "      <th>untreated</th>\n",
       "      <th>estimate</th>\n",
       "      <th>weight</th>\n",
       "      <th>type</th>\n",
       "    </tr>\n",
       "  </thead>\n",
       "  <tbody>\n",
       "    <tr>\n",
       "      <th>2</th>\n",
       "      <td>1992</td>\n",
       "      <td>1986</td>\n",
       "      <td>8.000033</td>\n",
       "      <td>0.100000</td>\n",
       "      <td>Later vs Earlier Treated</td>\n",
       "    </tr>\n",
       "    <tr>\n",
       "      <th>3</th>\n",
       "      <td>1998</td>\n",
       "      <td>1986</td>\n",
       "      <td>5.999868</td>\n",
       "      <td>0.133333</td>\n",
       "      <td>Later vs Earlier Treated</td>\n",
       "    </tr>\n",
       "    <tr>\n",
       "      <th>4</th>\n",
       "      <td>2004</td>\n",
       "      <td>1986</td>\n",
       "      <td>3.987514</td>\n",
       "      <td>0.100000</td>\n",
       "      <td>Later vs Earlier Treated</td>\n",
       "    </tr>\n",
       "    <tr>\n",
       "      <th>5</th>\n",
       "      <td>1986</td>\n",
       "      <td>1992</td>\n",
       "      <td>10.001493</td>\n",
       "      <td>0.033333</td>\n",
       "      <td>Earlier vs Later Treated</td>\n",
       "    </tr>\n",
       "    <tr>\n",
       "      <th>7</th>\n",
       "      <td>1998</td>\n",
       "      <td>1992</td>\n",
       "      <td>5.983675</td>\n",
       "      <td>0.066667</td>\n",
       "      <td>Later vs Earlier Treated</td>\n",
       "    </tr>\n",
       "    <tr>\n",
       "      <th>8</th>\n",
       "      <td>2004</td>\n",
       "      <td>1992</td>\n",
       "      <td>3.992517</td>\n",
       "      <td>0.066667</td>\n",
       "      <td>Later vs Earlier Treated</td>\n",
       "    </tr>\n",
       "    <tr>\n",
       "      <th>9</th>\n",
       "      <td>1986</td>\n",
       "      <td>1998</td>\n",
       "      <td>10.003778</td>\n",
       "      <td>0.066667</td>\n",
       "      <td>Earlier vs Later Treated</td>\n",
       "    </tr>\n",
       "    <tr>\n",
       "      <th>10</th>\n",
       "      <td>1992</td>\n",
       "      <td>1998</td>\n",
       "      <td>7.983525</td>\n",
       "      <td>0.066667</td>\n",
       "      <td>Earlier vs Later Treated</td>\n",
       "    </tr>\n",
       "    <tr>\n",
       "      <th>12</th>\n",
       "      <td>2004</td>\n",
       "      <td>1998</td>\n",
       "      <td>3.984185</td>\n",
       "      <td>0.033333</td>\n",
       "      <td>Later vs Earlier Treated</td>\n",
       "    </tr>\n",
       "    <tr>\n",
       "      <th>13</th>\n",
       "      <td>1986</td>\n",
       "      <td>2004</td>\n",
       "      <td>10.001248</td>\n",
       "      <td>0.100000</td>\n",
       "      <td>Earlier vs Later Treated</td>\n",
       "    </tr>\n",
       "    <tr>\n",
       "      <th>14</th>\n",
       "      <td>1992</td>\n",
       "      <td>2004</td>\n",
       "      <td>7.999977</td>\n",
       "      <td>0.133333</td>\n",
       "      <td>Earlier vs Later Treated</td>\n",
       "    </tr>\n",
       "    <tr>\n",
       "      <th>15</th>\n",
       "      <td>1998</td>\n",
       "      <td>2004</td>\n",
       "      <td>5.989015</td>\n",
       "      <td>0.100000</td>\n",
       "      <td>Earlier vs Later Treated</td>\n",
       "    </tr>\n",
       "  </tbody>\n",
       "</table>\n",
       "</div>"
      ],
      "text/plain": [
       "    treated  untreated   estimate    weight                      type\n",
       "2      1992       1986   8.000033  0.100000  Later vs Earlier Treated\n",
       "3      1998       1986   5.999868  0.133333  Later vs Earlier Treated\n",
       "4      2004       1986   3.987514  0.100000  Later vs Earlier Treated\n",
       "5      1986       1992  10.001493  0.033333  Earlier vs Later Treated\n",
       "7      1998       1992   5.983675  0.066667  Later vs Earlier Treated\n",
       "8      2004       1992   3.992517  0.066667  Later vs Earlier Treated\n",
       "9      1986       1998  10.003778  0.066667  Earlier vs Later Treated\n",
       "10     1992       1998   7.983525  0.066667  Earlier vs Later Treated\n",
       "12     2004       1998   3.984185  0.033333  Later vs Earlier Treated\n",
       "13     1986       2004  10.001248  0.100000  Earlier vs Later Treated\n",
       "14     1992       2004   7.999977  0.133333  Earlier vs Later Treated\n",
       "15     1998       2004   5.989015  0.100000  Earlier vs Later Treated"
      ]
     },
     "execution_count": 210,
     "metadata": {},
     "output_type": "execute_result"
    }
   ],
   "source": [
    "get_df_y2 = bacondecomp.bacon(Formula('y2 ~ treat'), data = rdf, \n",
    "                  id_var = 'id', \n",
    "                  time_var = 'year')\n",
    "\n",
    "with localconverter(ro.default_converter + pandas2ri.converter):\n",
    "      decomp_df_y2 = ro.conversion.rpy2py(get_df_y2)\n",
    "        \n",
    "decomp_df_y2"
   ]
  },
  {
   "cell_type": "markdown",
   "id": "d0e1fceb",
   "metadata": {},
   "source": [
    "* Callaway and Sant'anna (2018)\n",
    "* When there are no coariates X and everybody eventually gets treated, Callaway & Sant'Anna (2018) suggest to estimate ATT(g,t) using\n",
    "* ATT(g,t) = E [ (Gg/E[Gg] - ( 1-Dt)p/1-p/E[1-Dt] )( Yt - Y_{g-1}) ]"
   ]
  },
  {
   "cell_type": "code",
   "execution_count": 181,
   "id": "a45c0c38",
   "metadata": {},
   "outputs": [],
   "source": [
    "# Create group indicators\n",
    "df = pd.concat([df, pd.get_dummies(df['group'], prefix = 'g', prefix_sep = \"\")], axis = 1)"
   ]
  },
  {
   "cell_type": "markdown",
   "id": "ad7aefbc",
   "metadata": {},
   "source": [
    "* Estimate propensity scores. \n",
    "* In this setup where there is no \"never treated\" group, we need propensity scores per time period. \n",
    "* We can exploit the staggered rollout to simplify this a bit!\n",
    "* Since I only know how to work things out well in the \"wide\" data format instead of the \"long\" data format, I simplify things a bit!\n",
    "* pscore for Group 1986 that can be used until year 1991 (since at 1992 another set of units get treated)\n",
    "* Note that I am using only a single year of data (this is because I want to use \"wide format\".)"
   ]
  },
  {
   "cell_type": "code",
   "execution_count": 182,
   "id": "48d9c8e0",
   "metadata": {},
   "outputs": [
    {
     "name": "stdout",
     "output_type": "stream",
     "text": [
      "Optimization terminated successfully.\n",
      "         Current function value: 0.562335\n",
      "         Iterations 5\n"
     ]
    }
   ],
   "source": [
    "logit_mod = sm.Logit.from_formula('g1 ~ 1', \n",
    "                                  data = df.query('(year == 1991) & ((g1 == 1) | (time_til < 0))')).fit()\n",
    "df['pg1_1991'] = logit_mod.predict(df['g1']).g1"
   ]
  },
  {
   "cell_type": "markdown",
   "id": "44803396",
   "metadata": {},
   "source": [
    "* Calculate ATT(1986,1986)\n",
    "* This the the ATT for the group first treated at 1986 (g1==1) in the first period since treatment (1986)\n",
    "* Gen outcomes (easiest way to transform data into wide form is this)"
   ]
  },
  {
   "cell_type": "code",
   "execution_count": 217,
   "id": "64ab77c3",
   "metadata": {},
   "outputs": [
    {
     "data": {
      "text/plain": [
       "10.006858432324133"
      ]
     },
     "execution_count": 217,
     "metadata": {},
     "output_type": "execute_result"
    }
   ],
   "source": [
    "df['ypost'] = df['y'][df['year'] == 1986] \n",
    "\n",
    "df['ypre'] = df['y'][df['year'] == 1985]\n",
    "\n",
    "# Generate denominators of the weights\n",
    "\n",
    "df['g1_mean'] = df['g1'].groupby(df['year']).transform(lambda x: np.mean(x))\n",
    "\n",
    "df['g1_cont_1991mean'] = df['pg1_1991'].groupby(df['year']).transform(lambda x: np.mean(\n",
    "    (1 - df['g1'])*df['pg1_1991']/(1 - df['pg1_1991'])))\n",
    "\n",
    "# Get weights\n",
    "\n",
    "df['w1'] = df['g1']/df['g1_mean']\n",
    "\n",
    "df['w0'] = ((1 - df['g1'])*df['pg1_1991']/(1 - df['pg1_1991']))/df['g1_cont_1991mean']\n",
    "\n",
    "# Generate each component of the DID\n",
    "\n",
    "att_11 = np.mean(df['w1']*df['ypost'])\n",
    "att_10 = np.mean(df['w1']*df['ypre'])\n",
    "att_01 =  np.mean(df['w0']*df['ypost'])\n",
    "att_00 = np.mean(df['w0']*df['ypre'])\n",
    "\n",
    "# Get the ATT(1986,1986)\n",
    "att1986_1986 = (att_11 - att_10) -(att_01 - att_00)\n",
    "att1986_1986"
   ]
  },
  {
   "cell_type": "markdown",
   "id": "8953c0fe",
   "metadata": {},
   "source": [
    "* Calculate ATT(1986,1987)\n",
    "* This the the ATT for the group first treated at 1986 (g1==1) in the second period since treatment (1987)\n",
    "* Gen outcomes (easiest way to transform data into wide form is this)"
   ]
  },
  {
   "cell_type": "code",
   "execution_count": 184,
   "id": "edad95ba",
   "metadata": {},
   "outputs": [
    {
     "data": {
      "text/plain": [
       "19.97935546103527"
      ]
     },
     "execution_count": 184,
     "metadata": {},
     "output_type": "execute_result"
    }
   ],
   "source": [
    "df['ypost'] = df['y'][df['year'] == 1987] \n",
    "df['ypre'] = df['y'][df['year'] == 1985]\n",
    "\n",
    "df['g1_mean'] = df['g1'].groupby(df['year']).transform(lambda x: np.mean(x))\n",
    "df['g1_cont_1991mean'] = df['pg1_1991'].groupby(df['year']).transform(\n",
    "    lambda x: np.mean((1 - df['g1'])*df['pg1_1991']/(1 - df['pg1_1991'])))\n",
    "\n",
    "df['w1'] = df['g1']/df['g1_mean']\n",
    "df['w0'] = ((1 - df['g1'])*df['pg1_1991']/(1 - df['pg1_1991']))/df['g1_cont_1991mean']\n",
    "\n",
    "att_11 = np.mean(df['w1']*df['ypost'])\n",
    "att_10 = np.mean(df['w1']*df['ypre'])\n",
    "att_01 =  np.mean(df['w0']*df['ypost'])\n",
    "att_00 = np.mean(df['w0']*df['ypre'])\n",
    "\n",
    "att1986_1987 = (att_11 - att_10) -(att_01 - att_00)\n",
    "att1986_1987"
   ]
  },
  {
   "cell_type": "code",
   "execution_count": 185,
   "id": "90634f88",
   "metadata": {},
   "outputs": [
    {
     "data": {
      "text/plain": [
       "30.000872605079834"
      ]
     },
     "execution_count": 185,
     "metadata": {},
     "output_type": "execute_result"
    }
   ],
   "source": [
    "df['ypost'] = df['y'][df['year'] == 1988] \n",
    "df['ypre'] = df['y'][df['year'] == 1985]\n",
    "\n",
    "df['g1_mean'] = df['g1'].groupby(df['year']).transform(lambda x: np.mean(x))\n",
    "df['g1_cont_1991mean'] = df['pg1_1991'].groupby(df['year']).transform(\n",
    "    lambda x: np.mean((1 - df['g1'])*df['pg1_1991']/(1 - df['pg1_1991'])))\n",
    "\n",
    "df['w1'] = df['g1']/df['g1_mean']\n",
    "df['w0'] = ((1 - df['g1'])*df['pg1_1991']/(1 - df['pg1_1991']))/df['g1_cont_1991mean']\n",
    "\n",
    "att_11 = np.mean(df['w1']*df['ypost'])\n",
    "att_10 = np.mean(df['w1']*df['ypre'])\n",
    "att_01 =  np.mean(df['w0']*df['ypost'])\n",
    "att_00 = np.mean(df['w0']*df['ypre'])\n",
    "\n",
    "att1986_1988 = (att_11 - att_10) -(att_01 - att_00)\n",
    "att1986_1988"
   ]
  },
  {
   "cell_type": "code",
   "execution_count": 186,
   "id": "ccf705c0",
   "metadata": {},
   "outputs": [
    {
     "name": "stdout",
     "output_type": "stream",
     "text": [
      "Optimization terminated successfully.\n",
      "         Current function value: 0.636514\n",
      "         Iterations 4\n"
     ]
    }
   ],
   "source": [
    "logit_mod = sm.Logit.from_formula('g1 ~ 1', data = df.query(\n",
    "    '(year == 1997) & ((g1 == 1) | (time_til < 0))')).fit()\n",
    "df['pg1_1997'] = logit_mod.predict(df['g1']).g1"
   ]
  },
  {
   "cell_type": "code",
   "execution_count": 187,
   "id": "aebe0bda",
   "metadata": {},
   "outputs": [
    {
     "data": {
      "text/plain": [
       "79.98798332042038"
      ]
     },
     "execution_count": 187,
     "metadata": {},
     "output_type": "execute_result"
    }
   ],
   "source": [
    "df['ypost'] = df['y'][df['year'] == 1993] \n",
    "df['ypre'] = df['y'][df['year'] == 1985]\n",
    "\n",
    "df['g1_mean'] = df['g1'].groupby(df['year']).transform(lambda x: np.mean(x))\n",
    "df['g1_cont_1997mean'] = df['pg1_1997'].groupby(df['year']).transform(\n",
    "    lambda x: np.mean((1 - df['g1'])*(1 - df['g2'])*df['pg1_1997']/(1 - df['pg1_1997'])))\n",
    "\n",
    "df['w1'] = df['g1']/df['g1_mean']\n",
    "df['w0'] = ((1 - df['g1'])*(1 - df['g2'])*df['pg1_1997']/(1 - df['pg1_1997']))/df['g1_cont_1997mean']\n",
    "\n",
    "att_11 = np.mean(df['w1']*df['ypost'])\n",
    "att_10 = np.mean(df['w1']*df['ypre'])\n",
    "att_01 =  np.mean(df['w0']*df['ypost'])\n",
    "att_00 = np.mean(df['w0']*df['ypre'])\n",
    "\n",
    "att1986_1993 = (att_11 - att_10) -(att_01 - att_00)\n",
    "att1986_1993"
   ]
  },
  {
   "cell_type": "code",
   "execution_count": 188,
   "id": "19f21a73",
   "metadata": {},
   "outputs": [
    {
     "name": "stdout",
     "output_type": "stream",
     "text": [
      "Optimization terminated successfully.\n",
      "         Current function value: 0.693147\n",
      "         Iterations 1\n"
     ]
    }
   ],
   "source": [
    "logit_mod = sm.Logit.from_formula('g1 ~ 1', data = df.query('(year == 2003) & ((g1 == 1) | (time_til < 0))')).fit()\n",
    "df['pg1_2003'] = logit_mod.predict(df['g1']).g1"
   ]
  },
  {
   "cell_type": "code",
   "execution_count": 189,
   "id": "ac684331",
   "metadata": {},
   "outputs": [
    {
     "data": {
      "text/plain": [
       "129.97868247120826"
      ]
     },
     "execution_count": 189,
     "metadata": {},
     "output_type": "execute_result"
    }
   ],
   "source": [
    "df['ypost'] = df['y'][df['year'] == 1998] \n",
    "df['ypre'] = df['y'][df['year'] == 1985]\n",
    "\n",
    "df['g1_mean'] = df['g1'].groupby(df['year']).transform(lambda x: np.mean(x))\n",
    "df['g1_cont_2003mean'] = df['pg1_1997'].groupby(df['year']).transform(\n",
    "    lambda x: np.mean(df['g4']*df['pg1_2003']/(1 - df['pg1_2003'])))\n",
    "\n",
    "df['w1'] = df['g1']/df['g1_mean']\n",
    "df['w0'] = (df['g4']*df['pg1_2003']/(1 - df['pg1_2003']))/df['g1_cont_2003mean']\n",
    "\n",
    "att_11 = np.mean(df['w1']*df['ypost'])\n",
    "att_10 = np.mean(df['w1']*df['ypre'])\n",
    "att_01 =  np.mean(df['w0']*df['ypost'])\n",
    "att_00 = np.mean(df['w0']*df['ypre'])\n",
    "\n",
    "att1986_1998 = (att_11 - att_10) -(att_01 - att_00)\n",
    "att1986_1998"
   ]
  },
  {
   "cell_type": "code",
   "execution_count": 190,
   "id": "ab418588",
   "metadata": {},
   "outputs": [
    {
     "name": "stdout",
     "output_type": "stream",
     "text": [
      "Optimization terminated successfully.\n",
      "         Current function value: 0.636514\n",
      "         Iterations 4\n"
     ]
    }
   ],
   "source": [
    "logit_mod = sm.Logit.from_formula('g2 ~ 1', data = df.query('(year == 1997) & ((g2 == 1) | (time_til < 0))')).fit()\n",
    "df['pg2_1997'] = logit_mod.predict(df['g2']).g2"
   ]
  },
  {
   "cell_type": "code",
   "execution_count": 191,
   "id": "3b3833d8",
   "metadata": {},
   "outputs": [
    {
     "data": {
      "text/plain": [
       "7.951605812652414"
      ]
     },
     "execution_count": 191,
     "metadata": {},
     "output_type": "execute_result"
    }
   ],
   "source": [
    "df['ypost'] = df['y'][df['year'] == 1992] \n",
    "df['ypre'] = df['y'][df['year'] == 1991]\n",
    "\n",
    "df['g2_mean'] = df['g2'].groupby(df['year']).transform(lambda x: np.mean(x))\n",
    "df['g2_cont_1997mean'] = df['pg1_1997'].groupby(df['year']).transform(\n",
    "    lambda x: np.mean((1-df['g1'])*(1-df['g2'])*df['pg2_1997']/(1 - df['pg2_1997'])))\n",
    "\n",
    "df['w1'] = df['g2']/df['g2_mean']\n",
    "df['w0'] = ((1-df['g1'])*(1-df['g2'])*df['pg2_1997']/(1 - df['pg2_1997']))/df['g2_cont_1997mean']\n",
    "\n",
    "att_11 = np.mean(df['w1']*df['ypost'])\n",
    "att_10 = np.mean(df['w1']*df['ypre'])\n",
    "att_01 =  np.mean(df['w0']*df['ypost'])\n",
    "att_00 = np.mean(df['w0']*df['ypre'])\n",
    "\n",
    "att1992_1992 = (att_11 - att_10) -(att_01 - att_00)\n",
    "att1992_1992"
   ]
  },
  {
   "cell_type": "markdown",
   "id": "0f5bcb49",
   "metadata": {},
   "source": [
    "### Jon Roth - Staggered"
   ]
  },
  {
   "cell_type": "code",
   "execution_count": 211,
   "id": "8a0853a8",
   "metadata": {},
   "outputs": [],
   "source": [
    "%%capture\n",
    "\n",
    "utils.install_packages(\"staggered\")\n",
    "staggered = rpackages.importr('staggered')"
   ]
  },
  {
   "cell_type": "code",
   "execution_count": 212,
   "id": "f1d9d18d",
   "metadata": {},
   "outputs": [
    {
     "data": {
      "text/html": [
       "<div>\n",
       "<style scoped>\n",
       "    .dataframe tbody tr th:only-of-type {\n",
       "        vertical-align: middle;\n",
       "    }\n",
       "\n",
       "    .dataframe tbody tr th {\n",
       "        vertical-align: top;\n",
       "    }\n",
       "\n",
       "    .dataframe thead th {\n",
       "        text-align: right;\n",
       "    }\n",
       "</style>\n",
       "<table border=\"1\" class=\"dataframe\">\n",
       "  <thead>\n",
       "    <tr style=\"text-align: right;\">\n",
       "      <th></th>\n",
       "      <th>estimate</th>\n",
       "      <th>se</th>\n",
       "      <th>se_neyman</th>\n",
       "    </tr>\n",
       "  </thead>\n",
       "  <tbody>\n",
       "    <tr>\n",
       "      <th>1</th>\n",
       "      <td>68.328934</td>\n",
       "      <td>0.013269</td>\n",
       "      <td>0.013283</td>\n",
       "    </tr>\n",
       "  </tbody>\n",
       "</table>\n",
       "</div>"
      ],
      "text/plain": [
       "    estimate        se  se_neyman\n",
       "1  68.328934  0.013269   0.013283"
      ]
     },
     "execution_count": 212,
     "metadata": {},
     "output_type": "execute_result"
    }
   ],
   "source": [
    "staggered_1 = staggered.staggered(df = rdf,\n",
    "                   i = 'id', g = 'treat_date', y = 'y', t = 'year', estimand = 'simple')\n",
    "\n",
    "with localconverter(ro.default_converter + pandas2ri.converter):\n",
    "    staggered_1 = ro.conversion.rpy2py(staggered_1)\n",
    "    \n",
    "staggered_1"
   ]
  },
  {
   "cell_type": "code",
   "execution_count": 219,
   "id": "4e94c9a0",
   "metadata": {},
   "outputs": [
    {
     "data": {
      "text/html": [
       "<div>\n",
       "<style scoped>\n",
       "    .dataframe tbody tr th:only-of-type {\n",
       "        vertical-align: middle;\n",
       "    }\n",
       "\n",
       "    .dataframe tbody tr th {\n",
       "        vertical-align: top;\n",
       "    }\n",
       "\n",
       "    .dataframe thead th {\n",
       "        text-align: right;\n",
       "    }\n",
       "</style>\n",
       "<table border=\"1\" class=\"dataframe\">\n",
       "  <thead>\n",
       "    <tr style=\"text-align: right;\">\n",
       "      <th></th>\n",
       "      <th>estimate</th>\n",
       "      <th>se</th>\n",
       "      <th>se_neyman</th>\n",
       "    </tr>\n",
       "  </thead>\n",
       "  <tbody>\n",
       "    <tr>\n",
       "      <th>1</th>\n",
       "      <td>8.657853</td>\n",
       "      <td>0.013073</td>\n",
       "      <td>0.013084</td>\n",
       "    </tr>\n",
       "  </tbody>\n",
       "</table>\n",
       "</div>"
      ],
      "text/plain": [
       "   estimate        se  se_neyman\n",
       "1  8.657853  0.013073   0.013084"
      ]
     },
     "execution_count": 219,
     "metadata": {},
     "output_type": "execute_result"
    }
   ],
   "source": [
    "staggered_2 = staggered.staggered_cs(df = rdf,\n",
    "                   i = 'id', g = 'treat_date', y = 'y2', t = 'year', estimand = 'simple')\n",
    "\n",
    "with localconverter(ro.default_converter + pandas2ri.converter):\n",
    "    staggered_2 = ro.conversion.rpy2py(staggered_2)\n",
    "    \n",
    "staggered_2"
   ]
  },
  {
   "cell_type": "code",
   "execution_count": 220,
   "id": "2a34e82d",
   "metadata": {},
   "outputs": [
    {
     "data": {
      "text/html": [
       "<div>\n",
       "<style scoped>\n",
       "    .dataframe tbody tr th:only-of-type {\n",
       "        vertical-align: middle;\n",
       "    }\n",
       "\n",
       "    .dataframe tbody tr th {\n",
       "        vertical-align: top;\n",
       "    }\n",
       "\n",
       "    .dataframe thead th {\n",
       "        text-align: right;\n",
       "    }\n",
       "</style>\n",
       "<table border=\"1\" class=\"dataframe\">\n",
       "  <thead>\n",
       "    <tr style=\"text-align: right;\">\n",
       "      <th></th>\n",
       "      <th>estimate</th>\n",
       "      <th>se</th>\n",
       "      <th>se_neyman</th>\n",
       "    </tr>\n",
       "  </thead>\n",
       "  <tbody>\n",
       "    <tr>\n",
       "      <th>1</th>\n",
       "      <td>7.987738</td>\n",
       "      <td>0.013783</td>\n",
       "      <td>0.013804</td>\n",
       "    </tr>\n",
       "  </tbody>\n",
       "</table>\n",
       "</div>"
      ],
      "text/plain": [
       "   estimate        se  se_neyman\n",
       "1  7.987738  0.013783   0.013804"
      ]
     },
     "execution_count": 220,
     "metadata": {},
     "output_type": "execute_result"
    }
   ],
   "source": [
    "staggered_3 = staggered.staggered_sa(df = rdf,\n",
    "                   i = 'id', g = 'treat_date', y = 'y2', t = 'year', estimand = 'cohort')\n",
    "\n",
    "with localconverter(ro.default_converter + pandas2ri.converter):\n",
    "    staggered_3 = ro.conversion.rpy2py(staggered_3)\n",
    "    \n",
    "staggered_3"
   ]
  },
  {
   "cell_type": "markdown",
   "id": "0fbb220b",
   "metadata": {},
   "source": [
    "* Aggregation over two ATTs(g,t)\n",
    "* Combine att1986_1986 att1986_1987\n",
    "* Formula is 2/T(T-1) Sum_g=2^T Sum_t=2^T 1(g<=t)ATT(g,t)\n",
    "*\tT is the number of g units (here 4)"
   ]
  },
  {
   "cell_type": "code",
   "execution_count": 192,
   "id": "ce5fb152",
   "metadata": {},
   "outputs": [],
   "source": [
    "mean = 2/4*(4-1)\n",
    "sum1 = att1986_1986 + att1986_1987\n",
    "att = mean * sum1"
   ]
  },
  {
   "cell_type": "markdown",
   "id": "da1c51b4",
   "metadata": {},
   "source": [
    "### Callaway & Sant'Anna via regressions"
   ]
  },
  {
   "cell_type": "markdown",
   "id": "db621a45",
   "metadata": {},
   "source": [
    "* Calculate ATT(1986,1986)\n",
    "* This the the ATT for the group first treated at 1986 (g1==1) in the first period since treatment (1986)"
   ]
  },
  {
   "cell_type": "code",
   "execution_count": 193,
   "id": "a29d63fc",
   "metadata": {},
   "outputs": [
    {
     "name": "stdout",
     "output_type": "stream",
     "text": [
      "                          PanelOLS Estimation Summary                           \n",
      "================================================================================\n",
      "Dep. Variable:                      y   R-squared:                        0.9960\n",
      "Estimator:                   PanelOLS   R-squared (Between):              0.6936\n",
      "No. Observations:                2000   R-squared (Within):               0.9960\n",
      "Date:                Tue, Feb 15 2022   R-squared (Overall):              0.8541\n",
      "Time:                        22:11:01   Log-likelihood                    620.22\n",
      "Cov. Estimator:                Robust                                           \n",
      "                                        F-statistic:                    1.23e+05\n",
      "Entities:                        1000   P-value                           0.0000\n",
      "Avg Obs:                       2.0000   Distribution:                   F(2,998)\n",
      "Min Obs:                       2.0000                                           \n",
      "Max Obs:                       2.0000   F-statistic (robust):          1.343e+05\n",
      "                                        P-value                           0.0000\n",
      "Time periods:                       7   Distribution:                   F(2,998)\n",
      "Avg Obs:                       285.71                                           \n",
      "Min Obs:                       0.0000                                           \n",
      "Max Obs:                      1000.00                                           \n",
      "                                                                                \n",
      "                                Parameter Estimates                                \n",
      "===================================================================================\n",
      "                 Parameter  Std. Err.     T-stat    P-value    Lower CI    Upper CI\n",
      "-----------------------------------------------------------------------------------\n",
      "Intercept           8.4029     0.0079     1057.8     0.0000      8.3873      8.4185\n",
      "C(year)[T.1986]     1.0011     0.0132     76.081     0.0000      0.9753      1.0270\n",
      "treat               10.007     0.0252     397.38     0.0000      9.9574      10.056\n",
      "===================================================================================\n",
      "\n",
      "F-test for Poolability: 66.973\n",
      "P-value: 0.0000\n",
      "Distribution: F(999,998)\n",
      "\n",
      "Included effects: Entity\n"
     ]
    },
    {
     "name": "stderr",
     "output_type": "stream",
     "text": [
      "C:\\Users\\sajidmu2\\Anaconda3\\lib\\site-packages\\linearmodels\\panel\\model.py:1831: AbsorbingEffectWarning: \n",
      "Variables have been fully absorbed and have removed from the regression:\n",
      "\n",
      "g1\n",
      "\n",
      "  warnings.warn(\n"
     ]
    }
   ],
   "source": [
    "model = PanelOLS.from_formula(\"y ~ 1 + C(year) + g1 + treat + EntityEffects\", check_rank = False,\n",
    "                               drop_absorbed = True,\n",
    "                               data = df.query(\n",
    "                                   '((year==1985 | year==1986) & ((g1==1) | (time_til<0)))')).fit(cov_type = 'robust')\n",
    "print(model)"
   ]
  },
  {
   "cell_type": "markdown",
   "id": "4753d5ed",
   "metadata": {},
   "source": [
    "* Now calculate ATT (1986, 1987)"
   ]
  },
  {
   "cell_type": "code",
   "execution_count": 194,
   "id": "3716ba32",
   "metadata": {},
   "outputs": [
    {
     "name": "stdout",
     "output_type": "stream",
     "text": [
      "                          PanelOLS Estimation Summary                           \n",
      "================================================================================\n",
      "Dep. Variable:                      y   R-squared:                        0.9991\n",
      "Estimator:                   PanelOLS   R-squared (Between):              0.8989\n",
      "No. Observations:                2000   R-squared (Within):               0.9991\n",
      "Date:                Tue, Feb 15 2022   R-squared (Overall):              0.9586\n",
      "Time:                        22:11:02   Log-likelihood                    699.77\n",
      "Cov. Estimator:                Robust                                           \n",
      "                                        F-statistic:                   5.316e+05\n",
      "Entities:                        1000   P-value                           0.0000\n",
      "Avg Obs:                       2.0000   Distribution:                   F(2,998)\n",
      "Min Obs:                       2.0000                                           \n",
      "Max Obs:                       2.0000   F-statistic (robust):          4.582e+05\n",
      "                                        P-value                           0.0000\n",
      "Time periods:                       8   Distribution:                   F(2,998)\n",
      "Avg Obs:                       250.00                                           \n",
      "Min Obs:                       0.0000                                           \n",
      "Max Obs:                      1000.00                                           \n",
      "                                                                                \n",
      "                                Parameter Estimates                                \n",
      "===================================================================================\n",
      "                 Parameter  Std. Err.     T-stat    P-value    Lower CI    Upper CI\n",
      "-----------------------------------------------------------------------------------\n",
      "Intercept           8.4029     0.0076     1100.7     0.0000      8.3880      8.4179\n",
      "C(year)[T.1987]     2.0107     0.0121     165.97     0.0000      1.9870      2.0345\n",
      "treat               19.979     0.0263     760.18     0.0000      19.928      20.031\n",
      "===================================================================================\n",
      "\n",
      "F-test for Poolability: 72.954\n",
      "P-value: 0.0000\n",
      "Distribution: F(999,998)\n",
      "\n",
      "Included effects: Entity\n"
     ]
    }
   ],
   "source": [
    "model = PanelOLS.from_formula(\"y ~ 1 + C(year) + g1 + treat + EntityEffects\", check_rank = False,\n",
    "                               drop_absorbed = True,\n",
    "                               data = df.query(\n",
    "                                   '((year==1985 | year==1987) & ((g1==1) | (time_til<0)))')).fit(cov_type = 'robust')\n",
    "print(model)"
   ]
  },
  {
   "cell_type": "markdown",
   "id": "a8b214b0",
   "metadata": {},
   "source": [
    "* Now calculate ATT (1986, 1988)"
   ]
  },
  {
   "cell_type": "code",
   "execution_count": 195,
   "id": "c3ef04e1",
   "metadata": {},
   "outputs": [
    {
     "name": "stdout",
     "output_type": "stream",
     "text": [
      "                          PanelOLS Estimation Summary                           \n",
      "================================================================================\n",
      "Dep. Variable:                      y   R-squared:                        0.9995\n",
      "Estimator:                   PanelOLS   R-squared (Between):              0.9525\n",
      "No. Observations:                2000   R-squared (Within):               0.9995\n",
      "Date:                Tue, Feb 15 2022   R-squared (Overall):              0.9812\n",
      "Time:                        22:11:02   Log-likelihood                    614.16\n",
      "Cov. Estimator:                Robust                                           \n",
      "                                        F-statistic:                   1.099e+06\n",
      "Entities:                        1000   P-value                           0.0000\n",
      "Avg Obs:                       2.0000   Distribution:                   F(2,998)\n",
      "Min Obs:                       2.0000                                           \n",
      "Max Obs:                       2.0000   F-statistic (robust):          1.044e+06\n",
      "                                        P-value                           0.0000\n",
      "Time periods:                       9   Distribution:                   F(2,998)\n",
      "Avg Obs:                       222.22                                           \n",
      "Min Obs:                       0.0000                                           \n",
      "Max Obs:                      1000.00                                           \n",
      "                                                                                \n",
      "                                Parameter Estimates                                \n",
      "===================================================================================\n",
      "                 Parameter  Std. Err.     T-stat    P-value    Lower CI    Upper CI\n",
      "-----------------------------------------------------------------------------------\n",
      "Intercept           8.4029     0.0080     1054.6     0.0000      8.3873      8.4186\n",
      "C(year)[T.1988]     3.0015     0.0129     232.82     0.0000      2.9762      3.0268\n",
      "treat               30.001     0.0265     1132.3     0.0000      29.949      30.053\n",
      "===================================================================================\n",
      "\n",
      "F-test for Poolability: 66.744\n",
      "P-value: 0.0000\n",
      "Distribution: F(999,998)\n",
      "\n",
      "Included effects: Entity\n"
     ]
    }
   ],
   "source": [
    "model = PanelOLS.from_formula(\"y ~ 1 + C(year) + g1 + treat + EntityEffects\", check_rank = False, \n",
    "                              drop_absorbed = True,\n",
    "                               data = df.query(\n",
    "                                   '((year==1985 | year==1988) & ((g1==1) | (time_til<0)))')).fit(cov_type = 'robust')\n",
    "print(model)"
   ]
  },
  {
   "cell_type": "markdown",
   "id": "7ba86c3d",
   "metadata": {},
   "source": [
    "* Think now you got the idea!\n",
    "\n",
    "* Let me illustrate how this works for second group, ATT(1992,1992)"
   ]
  },
  {
   "cell_type": "code",
   "execution_count": 196,
   "id": "27f52b22",
   "metadata": {},
   "outputs": [
    {
     "name": "stdout",
     "output_type": "stream",
     "text": [
      "                          PanelOLS Estimation Summary                           \n",
      "================================================================================\n",
      "Dep. Variable:                      y   R-squared:                        0.9952\n",
      "Estimator:                   PanelOLS   R-squared (Between):              0.6199\n",
      "No. Observations:                1500   R-squared (Within):               0.9952\n",
      "Date:                Tue, Feb 15 2022   R-squared (Overall):              0.8263\n",
      "Time:                        22:11:03   Log-likelihood                    421.15\n",
      "Cov. Estimator:                Robust                                           \n",
      "                                        F-statistic:                   7.689e+04\n",
      "Entities:                        1000   P-value                           0.0000\n",
      "Avg Obs:                       1.5000   Distribution:                   F(2,748)\n",
      "Min Obs:                       0.0000                                           \n",
      "Max Obs:                       2.0000   F-statistic (robust):          8.521e+04\n",
      "                                        P-value                           0.0000\n",
      "Time periods:                      13   Distribution:                   F(2,748)\n",
      "Avg Obs:                       115.38                                           \n",
      "Min Obs:                       0.0000                                           \n",
      "Max Obs:                       750.00                                           \n",
      "                                                                                \n",
      "                                Parameter Estimates                                \n",
      "===================================================================================\n",
      "                 Parameter  Std. Err.     T-stat    P-value    Lower CI    Upper CI\n",
      "-----------------------------------------------------------------------------------\n",
      "Intercept           14.404     0.0094     1524.4     0.0000      14.386      14.423\n",
      "C(year)[T.1992]     1.0115     0.0168     60.303     0.0000      0.9786      1.0445\n",
      "treat               7.9516     0.0276     287.86     0.0000      7.8974      8.0058\n",
      "===================================================================================\n",
      "\n",
      "F-test for Poolability: 64.175\n",
      "P-value: 0.0000\n",
      "Distribution: F(749,748)\n",
      "\n",
      "Included effects: Entity\n"
     ]
    },
    {
     "name": "stderr",
     "output_type": "stream",
     "text": [
      "C:\\Users\\sajidmu2\\Anaconda3\\lib\\site-packages\\linearmodels\\panel\\model.py:1831: AbsorbingEffectWarning: \n",
      "Variables have been fully absorbed and have removed from the regression:\n",
      "\n",
      "g2\n",
      "\n",
      "  warnings.warn(\n"
     ]
    }
   ],
   "source": [
    "model = PanelOLS.from_formula(\"y ~ 1 + C(year) + g2 + treat + EntityEffects\", check_rank = False,\n",
    "                               drop_absorbed = True,\n",
    "                               data = df.query(\n",
    "                                   '((year== 1991 | year == 1992) & ((g2 == 1) | (time_til<0)))')).fit(cov_type = 'robust')\n",
    "print(model)"
   ]
  },
  {
   "cell_type": "markdown",
   "id": "2900465f",
   "metadata": {},
   "source": [
    "* Now calculate  ATT(1992,1993)"
   ]
  },
  {
   "cell_type": "code",
   "execution_count": 197,
   "id": "1230f97a",
   "metadata": {},
   "outputs": [
    {
     "name": "stdout",
     "output_type": "stream",
     "text": [
      "                          PanelOLS Estimation Summary                           \n",
      "================================================================================\n",
      "Dep. Variable:                      y   R-squared:                        0.9988\n",
      "Estimator:                   PanelOLS   R-squared (Between):              0.8695\n",
      "No. Observations:                1500   R-squared (Within):               0.9988\n",
      "Date:                Tue, Feb 15 2022   R-squared (Overall):              0.9509\n",
      "Time:                        22:11:03   Log-likelihood                    448.08\n",
      "Cov. Estimator:                Robust                                           \n",
      "                                        F-statistic:                   3.213e+05\n",
      "Entities:                        1000   P-value                           0.0000\n",
      "Avg Obs:                       1.5000   Distribution:                   F(2,748)\n",
      "Min Obs:                       0.0000                                           \n",
      "Max Obs:                       2.0000   F-statistic (robust):          3.288e+05\n",
      "                                        P-value                           0.0000\n",
      "Time periods:                      14   Distribution:                   F(2,748)\n",
      "Avg Obs:                       107.14                                           \n",
      "Min Obs:                       0.0000                                           \n",
      "Max Obs:                       750.00                                           \n",
      "                                                                                \n",
      "                                Parameter Estimates                                \n",
      "===================================================================================\n",
      "                 Parameter  Std. Err.     T-stat    P-value    Lower CI    Upper CI\n",
      "-----------------------------------------------------------------------------------\n",
      "Intercept           14.404     0.0093     1552.0     0.0000      14.386      14.422\n",
      "C(year)[T.1993]     2.0040     0.0162     123.93     0.0000      1.9722      2.0357\n",
      "treat               15.998     0.0277     577.99     0.0000      15.943      16.052\n",
      "===================================================================================\n",
      "\n",
      "F-test for Poolability: 66.027\n",
      "P-value: 0.0000\n",
      "Distribution: F(749,748)\n",
      "\n",
      "Included effects: Entity\n"
     ]
    }
   ],
   "source": [
    "model = PanelOLS.from_formula(\"y ~ 1 + C(year) + g2 + treat + EntityEffects\", check_rank = False,\n",
    "                               drop_absorbed = True,\n",
    "                               data = df.query(\n",
    "                                   '((year== 1991 | year == 1993) & ((g2 == 1) | (time_til<0)))')).fit(cov_type = 'robust')\n",
    "print(model)"
   ]
  },
  {
   "cell_type": "markdown",
   "id": "bb4af862",
   "metadata": {},
   "source": [
    "* For the third group, we ATT(1998,1998)"
   ]
  },
  {
   "cell_type": "code",
   "execution_count": 198,
   "id": "94e4a17b",
   "metadata": {},
   "outputs": [
    {
     "name": "stdout",
     "output_type": "stream",
     "text": [
      "                          PanelOLS Estimation Summary                           \n",
      "================================================================================\n",
      "Dep. Variable:                      y   R-squared:                        0.9952\n",
      "Estimator:                   PanelOLS   R-squared (Between):              0.5053\n",
      "No. Observations:                1000   R-squared (Within):               0.9952\n",
      "Date:                Tue, Feb 15 2022   R-squared (Overall):              0.7932\n",
      "Time:                        22:11:03   Log-likelihood                    334.80\n",
      "Cov. Estimator:                Robust                                           \n",
      "                                        F-statistic:                   5.132e+04\n",
      "Entities:                        1000   P-value                           0.0000\n",
      "Avg Obs:                       1.0000   Distribution:                   F(2,498)\n",
      "Min Obs:                       0.0000                                           \n",
      "Max Obs:                       2.0000   F-statistic (robust):          4.812e+04\n",
      "                                        P-value                           0.0000\n",
      "Time periods:                      19   Distribution:                   F(2,498)\n",
      "Avg Obs:                       52.632                                           \n",
      "Min Obs:                       0.0000                                           \n",
      "Max Obs:                       500.00                                           \n",
      "                                                                                \n",
      "                                Parameter Estimates                                \n",
      "===================================================================================\n",
      "                 Parameter  Std. Err.     T-stat    P-value    Lower CI    Upper CI\n",
      "-----------------------------------------------------------------------------------\n",
      "Intercept           20.414     0.0110     1860.6     0.0000      20.392      20.436\n",
      "C(year)[T.1998]     1.0094     0.0212     47.694     0.0000      0.9678      1.0510\n",
      "treat               5.9477     0.0310     191.67     0.0000      5.8868      6.0087\n",
      "===================================================================================\n",
      "\n",
      "F-test for Poolability: 71.753\n",
      "P-value: 0.0000\n",
      "Distribution: F(499,498)\n",
      "\n",
      "Included effects: Entity\n"
     ]
    },
    {
     "name": "stderr",
     "output_type": "stream",
     "text": [
      "C:\\Users\\sajidmu2\\Anaconda3\\lib\\site-packages\\linearmodels\\panel\\model.py:1831: AbsorbingEffectWarning: \n",
      "Variables have been fully absorbed and have removed from the regression:\n",
      "\n",
      "g3\n",
      "\n",
      "  warnings.warn(\n"
     ]
    }
   ],
   "source": [
    "model = PanelOLS.from_formula(\"y ~ 1 + C(year) + g3 + treat + EntityEffects\", check_rank = False, \n",
    "                              drop_absorbed = True,\n",
    "                              data = df.query(\n",
    "                        '((year== 1997 | year == 1998) & ((g3 == 1) | (time_til<0)))')).fit(cov_type = 'robust')\n",
    "\n",
    "print(model)"
   ]
  },
  {
   "cell_type": "markdown",
   "id": "4d644647",
   "metadata": {},
   "source": [
    "* For the last group, we can't identify their ATT's because there is no valid comparison group!"
   ]
  }
 ],
 "metadata": {
  "kernelspec": {
   "display_name": "Python 3 (ipykernel)",
   "language": "python",
   "name": "python3"
  },
  "language_info": {
   "codemirror_mode": {
    "name": "ipython",
    "version": 3
   },
   "file_extension": ".py",
   "mimetype": "text/x-python",
   "name": "python",
   "nbconvert_exporter": "python",
   "pygments_lexer": "ipython3",
   "version": "3.8.8"
  }
 },
 "nbformat": 4,
 "nbformat_minor": 5
}
