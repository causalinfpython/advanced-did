{
 "cells": [
  {
   "cell_type": "markdown",
   "id": "7267b7b0",
   "metadata": {},
   "source": [
    "# Using R packages for DID estimators in Python"
   ]
  },
  {
   "cell_type": "code",
   "execution_count": 13,
   "id": "ac0c55af",
   "metadata": {},
   "outputs": [
    {
     "data": {
      "text/plain": [
       "<rpy2.rinterface_lib.sexp.NULLType object at 0x0000023D3F108DC0> [RTYPES.NILSXP]"
      ]
     },
     "execution_count": 13,
     "metadata": {},
     "output_type": "execute_result"
    }
   ],
   "source": [
    "import pandas as pd\n",
    "import matplotlib.pyplot as plt\n",
    "import numpy as np\n",
    "import rpy2.robjects as ro\n",
    "from rpy2.robjects.packages import importr\n",
    "from rpy2.robjects import pandas2ri\n",
    "from rpy2.robjects.conversion import localconverter\n",
    "from rpy2.robjects import IntVector, Formula\n",
    "import rpy2.robjects.packages as rpackages\n",
    "utils = rpackages.importr('utils')\n",
    "utils.chooseCRANmirror(ind = 1)"
   ]
  },
  {
   "cell_type": "markdown",
   "id": "60b6a5a8",
   "metadata": {},
   "source": [
    "### Import R packages"
   ]
  },
  {
   "cell_type": "code",
   "execution_count": 2,
   "id": "fa29a6c9",
   "metadata": {},
   "outputs": [],
   "source": [
    "%%capture\n",
    "\n",
    "# Bacon Decomposition\n",
    "utils.install_packages(\"bacondecomp\")\n",
    "bacondecomp = rpackages.importr('bacondecomp')\n",
    "\n",
    "# Brantly Callaway, Pedro H.C. Sant’Anna (2020) estimator\n",
    "utils.install_packages(\"did\")\n",
    "did = rpackages.importr('did')\n",
    "\n",
    "# Clément de Chaisemartin, Xavier D’Haultfoeuille (2020)\n",
    "utils.install_packages(\"DIDmultiplegt\")\n",
    "DIDmultiplegt = rpackages.importr('DIDmultiplegt')\n",
    "\n",
    "# Pedro H.C. Sant’Anna , Jun Zhao (2020).\n",
    "utils.install_packages(\"DRDID\")\n",
    "DRDID = rpackages.importr('DRDID')\n",
    "\n",
    "# Liyang Sun, Sarah Abraham (2020)\n",
    "utils.install_packages(\"fixest\")\n",
    "fixest = rpackages.importr('fixest')\n",
    "\n",
    "# Kirill Borusyak, Xavier Jaravel, Jann Spiess (2021)\n",
    "utils.install_packages(\"didimputation\")\n",
    "didimputation = rpackages.importr('didimputation')\n",
    "\n",
    "# Gardner (2021)\n",
    "utils.install_packages(\"did2s\")\n",
    "did2s = rpackages.importr('did2s')\n",
    "\n",
    "# Broom package for working with fixest models\n",
    "utils.install_packages(\"broom\")\n",
    "broom = rpackages.importr('broom')"
   ]
  },
  {
   "cell_type": "markdown",
   "id": "689673de",
   "metadata": {},
   "source": [
    "### Example using Castle dataset"
   ]
  },
  {
   "cell_type": "code",
   "execution_count": 7,
   "id": "5a8c49fa",
   "metadata": {},
   "outputs": [
    {
     "name": "stderr",
     "output_type": "stream",
     "text": [
      "C:\\Users\\sajidmu2\\AppData\\Local\\Temp\\ipykernel_16664\\864293413.py:3: SettingWithCopyWarning: \n",
      "A value is trying to be set on a copy of a slice from a DataFrame\n",
      "\n",
      "See the caveats in the documentation: https://pandas.pydata.org/pandas-docs/stable/user_guide/indexing.html#returning-a-view-versus-a-copy\n",
      "  data.effyear[data.effyear.isnull()] = 0\n"
     ]
    }
   ],
   "source": [
    "# Import data\n",
    "data = pd.read_stata(\"https://github.com/scunning1975/mixtape/raw/master/castle.dta\")\n",
    "\n",
    "# Set groups that are never-treated to have a value of 0 \n",
    "# This is easier for conversion to an R/rpy2 DataFrame\n",
    "data.effyear[data.effyear.isnull()] = 0\n",
    "\n",
    "# Convert the pandas df to an R/rpy2 DataFrame for use with the R packages\n",
    "with localconverter(ro.default_converter + pandas2ri.converter):\n",
    "      rdata = ro.conversion.py2rpy(data)"
   ]
  },
  {
   "cell_type": "code",
   "execution_count": 8,
   "id": "ae57af15",
   "metadata": {},
   "outputs": [
    {
     "name": "stdout",
     "output_type": "stream",
     "text": [
      "Estimating TWFE Model\n",
      "Estimating using Gardner (2021)\n",
      "Estimating using Callaway and Sant'Anna (2020)\n",
      "Estimating using Sun and Abraham (2020)\n",
      "Estimating using Borusyak, Jaravel, Spiess (2021)\n",
      "Estimatng using Roth and Sant'Anna (2021)\n"
     ]
    },
    {
     "name": "stderr",
     "output_type": "stream",
     "text": [
      "R[write to console]: Error in create_Atheta_list_for_event_study(eventTime = eventTime, g_list = g_list,  : \n",
      "  There are no comparison cohorts for the given eventTime\n",
      "\n",
      "R[write to console]: In addition: \n",
      "R[write to console]: Warning messages:\n",
      "\n",
      "R[write to console]: 1: \n",
      "R[write to console]: In pre_process_did(yname = yname, tname = tname, idname = idname,  :\n",
      "R[write to console]: \n",
      " \n",
      "R[write to console]:  Be aware that there are some small groups in your dataset.\n",
      "  Check groups: 2005,2007,2008,2009.\n",
      "\n",
      "R[write to console]: 2: \n",
      "R[write to console]: In did::att_gt(yname = yname, tname = tname, idname = idname, gname = gname,  :\n",
      "R[write to console]: \n",
      " \n",
      "R[write to console]:  Not returning pre-test Wald statistic due to singular covariance matrix\n",
      "\n",
      "R[write to console]: 3: \n",
      "R[write to console]: In staggered::staggered(data_staggered, i = idname, t = tname, g = gname,  :\n",
      "R[write to console]: \n",
      " \n",
      "R[write to console]:  The treatment cohorts g = 2005, 2009 have a single cross-sectional unit only. We drop these cohorts.\n",
      "\n"
     ]
    }
   ],
   "source": [
    "# Use the did2s R package to estimate TWFE, \n",
    "# Gardner (2021), \n",
    "# Callaway and Sant'Anna (2020),\n",
    "# Sun and Abraham (2020)\n",
    "# Borusyak, Jaravel, Spiess (2021)\n",
    "# Roth and Sant'Anna (2021)\n",
    "\n",
    "modelsr = did2s.event_study(data = rdata,\n",
    "                 yname = 'l_homicide',\n",
    "                 gname = 'effyear',\n",
    "                 idname = 'sid',\n",
    "                 tname = 'year')"
   ]
  },
  {
   "cell_type": "code",
   "execution_count": 9,
   "id": "d912385a",
   "metadata": {},
   "outputs": [],
   "source": [
    "# Convert table containing estimates to a pandas df\n",
    "with localconverter(ro.default_converter + pandas2ri.converter):\n",
    "      models = ro.conversion.rpy2py(modelsr)"
   ]
  },
  {
   "cell_type": "code",
   "execution_count": 10,
   "id": "41d381e1",
   "metadata": {},
   "outputs": [],
   "source": [
    "# Check the estimators in the df\n",
    "pd.unique(models.estimator)\n",
    "# Get the available ones\n",
    "twfe = models[models.estimator == \"TWFE\"]\n",
    "csant = models[models.estimator == \"Callaway and Sant'Anna (2020)\"]\n",
    "sunab = models[models.estimator == \"Sun and Abraham (2020)\"]\n",
    "imput = models[models.estimator == \"Borusyak, Jaravel, Spiess (2021)\"]"
   ]
  },
  {
   "cell_type": "code",
   "execution_count": 14,
   "id": "cb526076",
   "metadata": {},
   "outputs": [
    {
     "data": {
      "text/plain": [
       "Text(0.5, 0.98, 'DID Estimators - Castle data, Cheng and Hoekstra (2013)')"
      ]
     },
     "execution_count": 14,
     "metadata": {},
     "output_type": "execute_result"
    },
    {
     "data": {
      "image/png": "[encoded data removed]",
      "text/plain": [
       "<Figure size 1800x1080 with 4 Axes>"
      ]
     },
     "metadata": {
      "needs_background": "light"
     },
     "output_type": "display_data"
    }
   ],
   "source": [
    "# Create a plot for the estimators that are suitable for our data/model\n",
    "\n",
    "fig = plt.figure(figsize = (25, 15))\n",
    "\n",
    "ax1 = fig.add_subplot(2, 2, 1)\n",
    "twfe.plot(x = 'term', y = 'estimate', kind = 'bar', \n",
    "             ax = ax1, color = 'none', \n",
    "             yerr ='std.error', legend = False)\n",
    "ax1.axhline(y = 0, color='r', linestyle='-')\n",
    "ax1.scatter(x = np.arange(twfe.shape[0]), \n",
    "           marker = 'o', s = 10, \n",
    "           y = twfe['estimate'], color = 'black')\n",
    "ax1.set_title('TWFE', size = 20)\n",
    "\n",
    "ax2 = fig.add_subplot(2, 2, 2)\n",
    "sunab.plot(x = 'term', y = 'estimate', kind = 'bar', \n",
    "             ax = ax2, color = 'none', \n",
    "             yerr ='std.error', legend = False)\n",
    "ax2.axhline(y = 0, color='r', linestyle='-')\n",
    "ax2.scatter(x = np.arange(sunab.shape[0]), \n",
    "           marker = 'o', s = 10, \n",
    "           y = sunab['estimate'], color = 'black')\n",
    "ax2.set_title('Sun and Abraham (2020)', size = 20)\n",
    "\n",
    "ax3 = fig.add_subplot(2, 2, 3)\n",
    "csant.plot(x = 'term', y = 'estimate', kind = 'bar', \n",
    "             ax = ax3, color = 'none', \n",
    "             yerr ='std.error', legend = False)\n",
    "ax3.axhline(y = 0, color='r', linestyle='-')\n",
    "ax3.scatter(x = np.arange(csant.shape[0]), \n",
    "           marker = 'o', s = 10, \n",
    "           y = csant['estimate'], color = 'black')\n",
    "ax3.set_title(\"Callaway and Sant'Anna (2020)\", size = 20)\n",
    "\n",
    "ax4 = fig.add_subplot(2, 2, 4)\n",
    "imput.plot(x = 'term', y = 'estimate', kind = 'bar', \n",
    "             ax = ax4, color = 'none', \n",
    "             yerr ='std.error', legend = False)\n",
    "ax4.axhline(y = 0, color='r', linestyle='-')\n",
    "ax4.scatter(x = np.arange(imput.shape[0]), \n",
    "           marker = 'o', s = 10, \n",
    "           y = imput['estimate'], color = 'black')\n",
    "ax4.set_title('Borusyak, Jaravel, Spiess (2021)', size = 20)\n",
    "\n",
    "fig.suptitle(\"DID Estimators - Castle data, Cheng and Hoekstra (2013)\", fontweight = 'bold', size = 20)"
   ]
  },
  {
   "cell_type": "markdown",
   "id": "d515fb7c",
   "metadata": {},
   "source": [
    "## Sample code for using the R packages in Python"
   ]
  },
  {
   "cell_type": "markdown",
   "id": "5781dd2c",
   "metadata": {},
   "source": [
    "The following sub-sections gives sample code you can adapt to estimate models using the packages listed above."
   ]
  },
  {
   "cell_type": "markdown",
   "id": "4029b218",
   "metadata": {},
   "source": [
    "### Callaway and Sant'Anna (2020) - did package"
   ]
  },
  {
   "cell_type": "code",
   "execution_count": null,
   "id": "4373c59a",
   "metadata": {},
   "outputs": [],
   "source": [
    "# Estimate model, using the data converted to an R/rpy2 DataFrame\n",
    "\n",
    "get_att_gt = did.att_gt(data = rdataframe,\n",
    "          yname = 'outcome',\n",
    "          tname = 'year',\n",
    "          idname = 'id',\n",
    "          gname = 'group', \n",
    "          control_group = 'notyettreated')\n",
    "\n",
    "# Aggregate results and extract for converting to a Pandas df\n",
    "# You can toggle the aggregation type for whatever you want\n",
    "csdid_results_r = did.tidy_AGGTEobj(did.aggte(get_att_gt, type = \"dynamic\"))\n",
    "\n",
    "# The results table is an R/rpy2 dataframe. Convert this to a Pandas df\n",
    "with localconverter(ro.default_converter + pandas2ri.converter):\n",
    "    csdid_results = ro.conversion.rpy2py(csdid_results_r)\n",
    "\n",
    "# Print table\n",
    "csdid_results"
   ]
  },
  {
   "cell_type": "markdown",
   "id": "584f1fa2",
   "metadata": {},
   "source": [
    "### Sun and Abraham (2020 )- uses sunab in the fixest R package"
   ]
  },
  {
   "cell_type": "code",
   "execution_count": null,
   "id": "89d30737",
   "metadata": {},
   "outputs": [],
   "source": [
    "# Estimate model, using your dataset converted to an R/rpy2 DataFrame\n",
    "\n",
    "sunab_mod = fixest.feols(fml = Formula(\"outcome ~ sunab(treat_date, year) | id + year\"), \n",
    "             data = rdataframe)\n",
    "\n",
    "# Get results table \n",
    "sunab_resultsr = broom.tidy_fixest(sunab_mod)\n",
    "\n",
    "# The results table is an R/rpy2 dataframe. Convert this to a Pandas df\n",
    "with localconverter(ro.default_converter + pandas2ri.converter):\n",
    "    sunab_results = ro.conversion.rpy2py(sunab_resultsr)\n",
    "\n",
    "# Print table\n",
    "sunab_results"
   ]
  },
  {
   "cell_type": "markdown",
   "id": "bca3a5b2",
   "metadata": {},
   "source": [
    "### Chaisemartin and D’Haultfoeuille (2020) - uses the DIDmultiplegt R package"
   ]
  },
  {
   "cell_type": "code",
   "execution_count": null,
   "id": "4750fcee",
   "metadata": {},
   "outputs": [],
   "source": [
    "# The function automatically plots an event-study if you're specifying the dynamic and placebo options.\n",
    "# This isn't great for our purposes so turning that off for now.\n",
    "# Load R graphics devices package\n",
    "grdevices = importr('grDevices')\n",
    "\n",
    "# Turn graphics device off\n",
    "grdevices.dev_off()\n",
    "\n",
    "# Estimate model, using your dataset converted to an R/rpy2 DataFrame\n",
    "chaise_mod = DIDmultiplegt.did_multiplegt(df = rdataframe,\n",
    "                            Y = 'outcome',\n",
    "                            G = 'group',\n",
    "                            T = 'year',\n",
    "                            D = 'treat', \n",
    "                            dynamic = 20, placebo = 20)\n",
    "\n",
    "# You have to do some work to get the results in a neat table because they're stored as a list.\n",
    "chaise_mod = base.do_call(\"rbind\", chaise_mod)\n",
    "chaise_mod = base.as_data_frame(chaise_mod)\n",
    "\n",
    "# The results table is an R/rpy2 dataframe. Convert this to a Pandas df\n",
    "with localconverter(ro.default_converter + pandas2ri.converter):\n",
    "    chaise_results = ro.conversion.rpy2py(chaise_mod)\n",
    "    \n",
    "# Print table \n",
    "# Note: you'll probably have to do some further manipulation with this depending on what you're interested in\n",
    "chaise_results"
   ]
  },
  {
   "cell_type": "markdown",
   "id": "94609933",
   "metadata": {},
   "source": [
    "### Borusyak, Jaravel, Spiess (2021) - uses the didimputation R package"
   ]
  },
  {
   "cell_type": "code",
   "execution_count": null,
   "id": "8cd4c864",
   "metadata": {},
   "outputs": [],
   "source": [
    "# Estimate model, using your dataset converted to an R/rpy2 DataFrame\n",
    "imputation_resultsr = didimputation.did_imputation(data = rdataframe,\n",
    "                            yname = 'outcome',\n",
    "                            gname = 'group',\n",
    "                            tname = 'year',\n",
    "                            idname = 'id', \n",
    "                            horizon = True, pretrends = True)\n",
    "\n",
    "# The results table is an R/rpy2 dataframe. Convert this to a Pandas df\n",
    "with localconverter(ro.default_converter + pandas2ri.converter):\n",
    "    imputation_results = ro.conversion.rpy2py(imputation_resultsr)\n",
    "    \n",
    "# Print table\n",
    "imputation_results"
   ]
  }
 ],
 "metadata": {
  "kernelspec": {
   "display_name": "Python 3 (ipykernel)",
   "language": "python",
   "name": "python3"
  },
  "language_info": {
   "codemirror_mode": {
    "name": "ipython",
    "version": 3
   },
   "file_extension": ".py",
   "mimetype": "text/x-python",
   "name": "python",
   "nbconvert_exporter": "python",
   "pygments_lexer": "ipython3",
   "version": "3.8.8"
  }
 },
 "nbformat": 4,
 "nbformat_minor": 5
}
